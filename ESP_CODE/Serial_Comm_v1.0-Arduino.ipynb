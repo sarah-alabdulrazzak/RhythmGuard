{
 "cells": [
  {
   "cell_type": "markdown",
   "metadata": {},
   "source": [
    "## Data Preparation, re-run when changing TARGET(SBP, DBP, MAP)"
   ]
  },
  {
   "cell_type": "code",
   "execution_count": 1,
   "metadata": {},
   "outputs": [],
   "source": [
    "TARGET = 'MAP' # SBP or DBP or MAP\n",
    "import pandas as pd\n",
    "import numpy as np\n",
    "from sklearn.model_selection import train_test_split\n",
    "take_log_PTT = 0 # if not log, then all values are positive & the outliers are as defined\n",
    "Remove_HR_Outliers = 1 # =1 if required more constraints on HR ( 54.4 < HR < 155.8) \n",
    "Remove_PTT_Outliers = 1\n",
    "Remove_BP_Outliers = 1\n",
    "\n",
    "Remove_PTTm_Outliers = 0 #(PATf)\n",
    "Remove_PTTh_Outliers = 0 #(PPG Max-to-Min)\n",
    "\n",
    "\n",
    "All_Instants_Data2 = pd.read_csv('/Users/sarahalabdulrazzak/Desktop/Capstone/myenv/FANOS_lab copy/HANDOVER/ALL_Results_and_Codes/CODES/Data_Generation_Training_and_Testing_Python/Extracted_Instants_Parameters_8secWindow_PTTm_PTTh_MAP_210621.csv')\n",
    "All_Instants_Data2.dropna(inplace=True)\n",
    "All_Instants_Data = All_Instants_Data2\n",
    "\n",
    "if take_log_PTT != 1:\n",
    "    All_Instants_Data['PTT'] = np.exp(All_Instants_Data['PTT']) ################ NOT LOG ANYMORE # By commenting this, it is log\n",
    "    All_Instants_Data['PTTm'] = np.exp(All_Instants_Data['PTTm'])\n",
    "\n",
    "# Removing BP Outliers\n",
    "if Remove_BP_Outliers == 1:\n",
    "    cond_BP = ((All_Instants_Data['SBP']<180) & (All_Instants_Data['SBP']>80)) & ((All_Instants_Data['DBP']<130) & (All_Instants_Data['DBP']>60))\n",
    "    All_Instants_Data= All_Instants_Data.loc[cond_BP, ['PTTh','PTTm','PTT','HR','SBP', 'DBP','MAP']]\n",
    "\n",
    "# Removing HR Outliers\n",
    "if Remove_HR_Outliers == 1: \n",
    "    cond_HR = ((All_Instants_Data['HR']>54.4) & (All_Instants_Data['HR']<155.8))\n",
    "    All_Instants_Data= All_Instants_Data.loc[cond_HR, ['PTTh','PTTm','PTT','HR','SBP', 'DBP','MAP']]\n",
    "    \n",
    "# Removing PTT Ouliers (outlier if PTT>1.5) # So far, considering PTT<0.5 range gave the best result\n",
    "if Remove_PTT_Outliers == 1: \n",
    "    cond_PTT = (All_Instants_Data['PTT']<0.4) #& (All_Instants_Data['PTT']>0.2)#& (All_Instants_Data['PTT']>.015) #### KEEP <0.4 only ##################\n",
    "    All_Instants_Data= All_Instants_Data.loc[cond_PTT, ['PTTh','PTTm','PTT','HR','SBP', 'DBP','MAP']]\n",
    "    \n",
    "# Removing PTTm (PATf) Outliers\n",
    "if Remove_PTTm_Outliers == 1: \n",
    "    cond_PTTm = ((All_Instants_Data['PTTm']>0.7) & (All_Instants_Data['PTTm']<1.5))\n",
    "    All_Instants_Data= All_Instants_Data.loc[cond_PTTm, ['PTTh','PTTm','PTT','HR','SBP', 'DBP','MAP']]\n",
    "    \n",
    "# Removing PTTh (PPG Max-to-Min) Outliers\n",
    "if Remove_PTTh_Outliers == 1: \n",
    "    cond_PTTh = ((All_Instants_Data['PTTh']>1) & (All_Instants_Data['PTTh']<2))\n",
    "    All_Instants_Data= All_Instants_Data.loc[cond_PTTh, ['PTTh','PTTm','PTT','HR','SBP', 'DBP','MAP']]\n",
    "\n",
    "    \n",
    "\n",
    "\n",
    "\n",
    "temp_data = All_Instants_Data.loc[:, ['PTTh','PTTm','PTT','HR']]\n",
    "train_copy2_tr, testData, train_labels, test_labels = train_test_split(temp_data, All_Instants_Data[TARGET], test_size=0.2, random_state=42,shuffle=True)\n",
    "\n"
   ]
  },
  {
   "cell_type": "markdown",
   "metadata": {},
   "source": [
    "## PC-to-MCU Connection + Helper Functions, run when the MCU is loaded and plugged"
   ]
  },
  {
   "cell_type": "code",
   "execution_count": 2,
   "metadata": {},
   "outputs": [
    {
     "name": "stdout",
     "output_type": "stream",
     "text": [
      "Connected to /dev/tty.usbserial-1420\n",
      "waiting for arduino\n",
      "Arduino is ready\n",
      "\n",
      "\n"
     ]
    },
    {
     "data": {
      "text/plain": [
       "<bound method Serial.close of Serial<id=0x1276d27d0, open=True>(port='/dev/tty.usbserial-1420', baudrate=115200, bytesize=8, parity='N', stopbits=1, timeout=1, xonxoff=False, rtscts=False, dsrdtr=False)>"
      ]
     },
     "execution_count": 2,
     "metadata": {},
     "output_type": "execute_result"
    }
   ],
   "source": [
    "# Connection Information: \n",
    "connectPort = '/dev/tty.usbserial-1420' ######################## PORT: COM6 for Arduino, COM9 for ESP, COM7 for PyBadge \n",
    "Baud_Rate = 115200\n",
    "startMarker = 60\n",
    "endMarker = 62\n",
    "\n",
    "import pandas as pd\n",
    "#=====================================\n",
    "\n",
    "#  Function Definitions\n",
    "\n",
    "#=====================================\n",
    "\n",
    "\n",
    "def sendToArduino(sendStr):\n",
    "  ser.write(bytes(sendStr, 'utf-8'))\n",
    "\n",
    "\n",
    "#======================================\n",
    "\n",
    "def recvFromArduino():\n",
    "  global startMarker, endMarker\n",
    "  \n",
    "  ck = \"\"\n",
    "  x = \"z\" # any value that is not an end- or startMarker\n",
    "  byteCount = -1 # to allow for the fact that the last increment will be one too many\n",
    "  \n",
    "  # wait for the start character\n",
    "  while  ord(x) != startMarker: \n",
    "    x = ser.read()\n",
    "  \n",
    "  # save data until the end marker is found\n",
    "  while ord(x) != endMarker:\n",
    "    if ord(x) != startMarker:\n",
    "      ck = ck + x.decode('utf-8')\n",
    "      byteCount += 1\n",
    "    x = ser.read()\n",
    "  \n",
    "  \n",
    "  return(ck) \n",
    "\n",
    "\n",
    "#============================\n",
    "\n",
    "def waitForArduino():\n",
    "\n",
    "   # wait until the Arduino sends 'Arduino Ready' - allows time for Arduino reset\n",
    "   # it also ensures that any bytes left over from a previous message are discarded\n",
    "   \n",
    "    global startMarker, endMarker\n",
    "    \n",
    "    msg = \"\"\n",
    "\n",
    "    print(\"waiting for arduino\")\n",
    "    while msg.find(\"Arduino is ready\") == -1:\n",
    "\n",
    "      while ser.inWaiting() == 0:\n",
    "        pass\n",
    "        \n",
    "      msg = recvFromArduino()\n",
    "\n",
    "      print (msg)\n",
    "      print (\"\\n\")\n",
    "      \n",
    "\n",
    "\n",
    "#======================================\n",
    "\n",
    "\n",
    "def runTest(td):\n",
    "  import pandas as pd\n",
    "  MCU_pred=pd.DataFrame()\n",
    "    \n",
    "  numLoops = len(td)\n",
    "  waitingForReply = False\n",
    "\n",
    "  n = 0\n",
    "  while n < numLoops:\n",
    "\n",
    "    teststr = td[n]\n",
    "\n",
    "    if waitingForReply == False:\n",
    "        sendToArduino(teststr)\n",
    "        #print (\"Sent from PC -- LOOP NUM \" + str(n) + \" TEST STR \" + teststr)\n",
    "        waitingForReply = True\n",
    "\n",
    "    if waitingForReply == True:\n",
    "\n",
    "        while ser.inWaiting() == 0:\n",
    "            pass\n",
    "      \n",
    "        str_from_MCU = recvFromArduino()\n",
    "        chunks = str_from_MCU.split(',')\n",
    "        P_SBP = float(chunks[0])\n",
    "        #P_DBP = float(chunks[1])\n",
    "        infTime = int(chunks[1])  ##########################################\n",
    "        \n",
    "        #Subset_DF = pd.DataFrame({'Pred_SBP':[P_SBP],'Pred_DBP':[P_DBP],'Inf_Time':[infTime]})\n",
    "        Subset_DF = pd.DataFrame({'Pred_SBP':[P_SBP],'Inf_Time':[infTime]})\n",
    "        MCU_pred = pd.concat([MCU_pred, Subset_DF], ignore_index=True)\n",
    "      \n",
    "        n += 1\n",
    "        waitingForReply = False\n",
    "    \n",
    "    #print (\"===========\")\n",
    "  return MCU_pred\n",
    "    #time.sleep(5) ####################################### should I keep this? let's see!\n",
    "\n",
    "\n",
    "#======================================\n",
    "\n",
    "# THE DEMO PROGRAM STARTS HERE\n",
    "\n",
    "#======================================\n",
    "\n",
    "import serial\n",
    "import time\n",
    "\n",
    "\n",
    "print\n",
    "print\n",
    "\n",
    "\n",
    "\n",
    "\n",
    "# Establish Connection \n",
    "\n",
    "if connectPort != 'None':\n",
    "    ser = serial.Serial(connectPort,baudrate = Baud_Rate, timeout=1)\n",
    "    print('Connected to ' + connectPort)\n",
    "else:\n",
    "    print('Connection Issue!')\n",
    "\n",
    "waitForArduino()\n",
    "\n",
    "\n",
    "Num_Test_Points = 5 # you may use it with the testData assignment for faster test. \n",
    "Total_length = len(testData.index)\n",
    "round_dig = 5\n",
    " \n",
    "PackedDataList = [] # THAT IS A LIST APPARENTLY!\n",
    "for i in range(len(testData.index)):\n",
    "    new_str = '<' + str(testData['PTTh'].iloc[i].round(round_dig)) + ',' + str(testData['PTTm'].iloc[i].round(round_dig)) + ',' + str(testData['PTT'].iloc[i].round(round_dig)) + ',' + str(testData['HR'].iloc[i].round(round_dig)) + '>'\n",
    "    PackedDataList.append(new_str) \n",
    "\n",
    "Predictions_df = runTest(PackedDataList) \n",
    "ser.close"
   ]
  },
  {
   "cell_type": "code",
   "execution_count": 3,
   "metadata": {
    "scrolled": true
   },
   "outputs": [
    {
     "data": {
      "text/html": [
       "<div>\n",
       "<style scoped>\n",
       "    .dataframe tbody tr th:only-of-type {\n",
       "        vertical-align: middle;\n",
       "    }\n",
       "\n",
       "    .dataframe tbody tr th {\n",
       "        vertical-align: top;\n",
       "    }\n",
       "\n",
       "    .dataframe thead th {\n",
       "        text-align: right;\n",
       "    }\n",
       "</style>\n",
       "<table border=\"1\" class=\"dataframe\">\n",
       "  <thead>\n",
       "    <tr style=\"text-align: right;\">\n",
       "      <th></th>\n",
       "      <th>Pred_SBP</th>\n",
       "      <th>Inf_Time</th>\n",
       "    </tr>\n",
       "  </thead>\n",
       "  <tbody>\n",
       "  </tbody>\n",
       "</table>\n",
       "</div>"
      ],
      "text/plain": [
       "Empty DataFrame\n",
       "Columns: [Pred_SBP, Inf_Time]\n",
       "Index: []"
      ]
     },
     "execution_count": 3,
     "metadata": {},
     "output_type": "execute_result"
    }
   ],
   "source": [
    "Predictions_df[Predictions_df['Pred_SBP'].isna()]"
   ]
  },
  {
   "cell_type": "markdown",
   "metadata": {},
   "source": [
    "## Error Calculations, ME, MAE, Std, CDF, Time, and Saving Results"
   ]
  },
  {
   "cell_type": "code",
   "execution_count": 5,
   "metadata": {},
   "outputs": [
    {
     "ename": "ValueError",
     "evalue": "keyword grid_visibleb is not recognized; valid keywords are ['size', 'width', 'color', 'tickdir', 'pad', 'labelsize', 'labelcolor', 'labelfontfamily', 'zorder', 'gridOn', 'tick1On', 'tick2On', 'label1On', 'label2On', 'length', 'direction', 'left', 'bottom', 'right', 'top', 'labelleft', 'labelbottom', 'labelright', 'labeltop', 'labelrotation', 'grid_agg_filter', 'grid_alpha', 'grid_animated', 'grid_antialiased', 'grid_clip_box', 'grid_clip_on', 'grid_clip_path', 'grid_color', 'grid_dash_capstyle', 'grid_dash_joinstyle', 'grid_dashes', 'grid_data', 'grid_drawstyle', 'grid_figure', 'grid_fillstyle', 'grid_gapcolor', 'grid_gid', 'grid_in_layout', 'grid_label', 'grid_linestyle', 'grid_linewidth', 'grid_marker', 'grid_markeredgecolor', 'grid_markeredgewidth', 'grid_markerfacecolor', 'grid_markerfacecoloralt', 'grid_markersize', 'grid_markevery', 'grid_mouseover', 'grid_path_effects', 'grid_picker', 'grid_pickradius', 'grid_rasterized', 'grid_sketch_params', 'grid_snap', 'grid_solid_capstyle', 'grid_solid_joinstyle', 'grid_transform', 'grid_url', 'grid_visible', 'grid_xdata', 'grid_ydata', 'grid_zorder', 'grid_aa', 'grid_c', 'grid_ds', 'grid_ls', 'grid_lw', 'grid_mec', 'grid_mew', 'grid_mfc', 'grid_mfcalt', 'grid_ms']",
     "output_type": "error",
     "traceback": [
      "\u001b[0;31m---------------------------------------------------------------------------\u001b[0m",
      "\u001b[0;31mValueError\u001b[0m                                Traceback (most recent call last)",
      "Cell \u001b[0;32mIn[5], line 41\u001b[0m\n\u001b[1;32m     39\u001b[0m plt\u001b[38;5;241m.\u001b[39mylabel(\u001b[38;5;124m'\u001b[39m\u001b[38;5;124mImperical CDF\u001b[39m\u001b[38;5;124m'\u001b[39m)\n\u001b[1;32m     40\u001b[0m plt\u001b[38;5;241m.\u001b[39mtitle(\u001b[38;5;124m'\u001b[39m\u001b[38;5;124mCDF of \u001b[39m\u001b[38;5;132;01m%s\u001b[39;00m\u001b[38;5;124m Estimation Error Using \u001b[39m\u001b[38;5;132;01m%s\u001b[39;00m\u001b[38;5;124m on \u001b[39m\u001b[38;5;132;01m%s\u001b[39;00m\u001b[38;5;124m'\u001b[39m \u001b[38;5;241m%\u001b[39m(TARGET, Alg, MCU))\n\u001b[0;32m---> 41\u001b[0m \u001b[43mplt\u001b[49m\u001b[38;5;241;43m.\u001b[39;49m\u001b[43mgrid\u001b[49m\u001b[43m(\u001b[49m\u001b[43mvisibleb\u001b[49m\u001b[38;5;241;43m=\u001b[39;49m\u001b[38;5;28;43;01mTrue\u001b[39;49;00m\u001b[43m,\u001b[49m\u001b[43m \u001b[49m\u001b[43mwhich\u001b[49m\u001b[38;5;241;43m=\u001b[39;49m\u001b[38;5;124;43m'\u001b[39;49m\u001b[38;5;124;43mminor\u001b[39;49m\u001b[38;5;124;43m'\u001b[39;49m\u001b[43m,\u001b[49m\u001b[43m \u001b[49m\u001b[43mcolor\u001b[49m\u001b[38;5;241;43m=\u001b[39;49m\u001b[38;5;124;43m'\u001b[39;49m\u001b[38;5;124;43mbeige\u001b[39;49m\u001b[38;5;124;43m'\u001b[39;49m\u001b[43m,\u001b[49m\u001b[43m \u001b[49m\u001b[43malpha\u001b[49m\u001b[38;5;241;43m=\u001b[39;49m\u001b[38;5;241;43m0.8\u001b[39;49m\u001b[43m,\u001b[49m\u001b[43m \u001b[49m\u001b[43mls\u001b[49m\u001b[38;5;241;43m=\u001b[39;49m\u001b[38;5;124;43m'\u001b[39;49m\u001b[38;5;124;43m-\u001b[39;49m\u001b[38;5;124;43m'\u001b[39;49m\u001b[43m,\u001b[49m\u001b[43m \u001b[49m\u001b[43mlw\u001b[49m\u001b[38;5;241;43m=\u001b[39;49m\u001b[38;5;241;43m1\u001b[39;49m\u001b[43m)\u001b[49m\n\u001b[1;32m     42\u001b[0m plt\u001b[38;5;241m.\u001b[39msavefig(CDF_file, \u001b[38;5;28mformat\u001b[39m\u001b[38;5;241m=\u001b[39m\u001b[38;5;124m'\u001b[39m\u001b[38;5;124msvg\u001b[39m\u001b[38;5;124m'\u001b[39m, dpi\u001b[38;5;241m=\u001b[39m\u001b[38;5;241m1200\u001b[39m)\n",
      "File \u001b[0;32m~/Desktop/Capstone/myenv/lib/python3.12/site-packages/matplotlib/pyplot.py:3360\u001b[0m, in \u001b[0;36mgrid\u001b[0;34m(visible, which, axis, **kwargs)\u001b[0m\n\u001b[1;32m   3353\u001b[0m \u001b[38;5;129m@_copy_docstring_and_deprecators\u001b[39m(Axes\u001b[38;5;241m.\u001b[39mgrid)\n\u001b[1;32m   3354\u001b[0m \u001b[38;5;28;01mdef\u001b[39;00m \u001b[38;5;21mgrid\u001b[39m(\n\u001b[1;32m   3355\u001b[0m     visible: \u001b[38;5;28mbool\u001b[39m \u001b[38;5;241m|\u001b[39m \u001b[38;5;28;01mNone\u001b[39;00m \u001b[38;5;241m=\u001b[39m \u001b[38;5;28;01mNone\u001b[39;00m,\n\u001b[0;32m   (...)\u001b[0m\n\u001b[1;32m   3358\u001b[0m     \u001b[38;5;241m*\u001b[39m\u001b[38;5;241m*\u001b[39mkwargs,\n\u001b[1;32m   3359\u001b[0m ) \u001b[38;5;241m-\u001b[39m\u001b[38;5;241m>\u001b[39m \u001b[38;5;28;01mNone\u001b[39;00m:\n\u001b[0;32m-> 3360\u001b[0m     \u001b[43mgca\u001b[49m\u001b[43m(\u001b[49m\u001b[43m)\u001b[49m\u001b[38;5;241;43m.\u001b[39;49m\u001b[43mgrid\u001b[49m\u001b[43m(\u001b[49m\u001b[43mvisible\u001b[49m\u001b[38;5;241;43m=\u001b[39;49m\u001b[43mvisible\u001b[49m\u001b[43m,\u001b[49m\u001b[43m \u001b[49m\u001b[43mwhich\u001b[49m\u001b[38;5;241;43m=\u001b[39;49m\u001b[43mwhich\u001b[49m\u001b[43m,\u001b[49m\u001b[43m \u001b[49m\u001b[43maxis\u001b[49m\u001b[38;5;241;43m=\u001b[39;49m\u001b[43maxis\u001b[49m\u001b[43m,\u001b[49m\u001b[43m \u001b[49m\u001b[38;5;241;43m*\u001b[39;49m\u001b[38;5;241;43m*\u001b[39;49m\u001b[43mkwargs\u001b[49m\u001b[43m)\u001b[49m\n",
      "File \u001b[0;32m~/Desktop/Capstone/myenv/lib/python3.12/site-packages/matplotlib/axes/_base.py:3268\u001b[0m, in \u001b[0;36m_AxesBase.grid\u001b[0;34m(self, visible, which, axis, **kwargs)\u001b[0m\n\u001b[1;32m   3266\u001b[0m _api\u001b[38;5;241m.\u001b[39mcheck_in_list([\u001b[38;5;124m'\u001b[39m\u001b[38;5;124mx\u001b[39m\u001b[38;5;124m'\u001b[39m, \u001b[38;5;124m'\u001b[39m\u001b[38;5;124my\u001b[39m\u001b[38;5;124m'\u001b[39m, \u001b[38;5;124m'\u001b[39m\u001b[38;5;124mboth\u001b[39m\u001b[38;5;124m'\u001b[39m], axis\u001b[38;5;241m=\u001b[39maxis)\n\u001b[1;32m   3267\u001b[0m \u001b[38;5;28;01mif\u001b[39;00m axis \u001b[38;5;129;01min\u001b[39;00m [\u001b[38;5;124m'\u001b[39m\u001b[38;5;124mx\u001b[39m\u001b[38;5;124m'\u001b[39m, \u001b[38;5;124m'\u001b[39m\u001b[38;5;124mboth\u001b[39m\u001b[38;5;124m'\u001b[39m]:\n\u001b[0;32m-> 3268\u001b[0m     \u001b[38;5;28;43mself\u001b[39;49m\u001b[38;5;241;43m.\u001b[39;49m\u001b[43mxaxis\u001b[49m\u001b[38;5;241;43m.\u001b[39;49m\u001b[43mgrid\u001b[49m\u001b[43m(\u001b[49m\u001b[43mvisible\u001b[49m\u001b[43m,\u001b[49m\u001b[43m \u001b[49m\u001b[43mwhich\u001b[49m\u001b[38;5;241;43m=\u001b[39;49m\u001b[43mwhich\u001b[49m\u001b[43m,\u001b[49m\u001b[43m \u001b[49m\u001b[38;5;241;43m*\u001b[39;49m\u001b[38;5;241;43m*\u001b[39;49m\u001b[43mkwargs\u001b[49m\u001b[43m)\u001b[49m\n\u001b[1;32m   3269\u001b[0m \u001b[38;5;28;01mif\u001b[39;00m axis \u001b[38;5;129;01min\u001b[39;00m [\u001b[38;5;124m'\u001b[39m\u001b[38;5;124my\u001b[39m\u001b[38;5;124m'\u001b[39m, \u001b[38;5;124m'\u001b[39m\u001b[38;5;124mboth\u001b[39m\u001b[38;5;124m'\u001b[39m]:\n\u001b[1;32m   3270\u001b[0m     \u001b[38;5;28mself\u001b[39m\u001b[38;5;241m.\u001b[39myaxis\u001b[38;5;241m.\u001b[39mgrid(visible, which\u001b[38;5;241m=\u001b[39mwhich, \u001b[38;5;241m*\u001b[39m\u001b[38;5;241m*\u001b[39mkwargs)\n",
      "File \u001b[0;32m~/Desktop/Capstone/myenv/lib/python3.12/site-packages/matplotlib/axis.py:1737\u001b[0m, in \u001b[0;36mAxis.grid\u001b[0;34m(self, visible, which, **kwargs)\u001b[0m\n\u001b[1;32m   1734\u001b[0m \u001b[38;5;28;01mif\u001b[39;00m which \u001b[38;5;129;01min\u001b[39;00m [\u001b[38;5;124m'\u001b[39m\u001b[38;5;124mminor\u001b[39m\u001b[38;5;124m'\u001b[39m, \u001b[38;5;124m'\u001b[39m\u001b[38;5;124mboth\u001b[39m\u001b[38;5;124m'\u001b[39m]:\n\u001b[1;32m   1735\u001b[0m     gridkw[\u001b[38;5;124m'\u001b[39m\u001b[38;5;124mgridOn\u001b[39m\u001b[38;5;124m'\u001b[39m] \u001b[38;5;241m=\u001b[39m (\u001b[38;5;129;01mnot\u001b[39;00m \u001b[38;5;28mself\u001b[39m\u001b[38;5;241m.\u001b[39m_minor_tick_kw[\u001b[38;5;124m'\u001b[39m\u001b[38;5;124mgridOn\u001b[39m\u001b[38;5;124m'\u001b[39m]\n\u001b[1;32m   1736\u001b[0m                         \u001b[38;5;28;01mif\u001b[39;00m visible \u001b[38;5;129;01mis\u001b[39;00m \u001b[38;5;28;01mNone\u001b[39;00m \u001b[38;5;28;01melse\u001b[39;00m visible)\n\u001b[0;32m-> 1737\u001b[0m     \u001b[38;5;28;43mself\u001b[39;49m\u001b[38;5;241;43m.\u001b[39;49m\u001b[43mset_tick_params\u001b[49m\u001b[43m(\u001b[49m\u001b[43mwhich\u001b[49m\u001b[38;5;241;43m=\u001b[39;49m\u001b[38;5;124;43m'\u001b[39;49m\u001b[38;5;124;43mminor\u001b[39;49m\u001b[38;5;124;43m'\u001b[39;49m\u001b[43m,\u001b[49m\u001b[43m \u001b[49m\u001b[38;5;241;43m*\u001b[39;49m\u001b[38;5;241;43m*\u001b[39;49m\u001b[43mgridkw\u001b[49m\u001b[43m)\u001b[49m\n\u001b[1;32m   1738\u001b[0m \u001b[38;5;28;01mif\u001b[39;00m which \u001b[38;5;129;01min\u001b[39;00m [\u001b[38;5;124m'\u001b[39m\u001b[38;5;124mmajor\u001b[39m\u001b[38;5;124m'\u001b[39m, \u001b[38;5;124m'\u001b[39m\u001b[38;5;124mboth\u001b[39m\u001b[38;5;124m'\u001b[39m]:\n\u001b[1;32m   1739\u001b[0m     gridkw[\u001b[38;5;124m'\u001b[39m\u001b[38;5;124mgridOn\u001b[39m\u001b[38;5;124m'\u001b[39m] \u001b[38;5;241m=\u001b[39m (\u001b[38;5;129;01mnot\u001b[39;00m \u001b[38;5;28mself\u001b[39m\u001b[38;5;241m.\u001b[39m_major_tick_kw[\u001b[38;5;124m'\u001b[39m\u001b[38;5;124mgridOn\u001b[39m\u001b[38;5;124m'\u001b[39m]\n\u001b[1;32m   1740\u001b[0m                         \u001b[38;5;28;01mif\u001b[39;00m visible \u001b[38;5;129;01mis\u001b[39;00m \u001b[38;5;28;01mNone\u001b[39;00m \u001b[38;5;28;01melse\u001b[39;00m visible)\n",
      "File \u001b[0;32m~/Desktop/Capstone/myenv/lib/python3.12/site-packages/matplotlib/axis.py:984\u001b[0m, in \u001b[0;36mAxis.set_tick_params\u001b[0;34m(self, which, reset, **kwargs)\u001b[0m\n\u001b[1;32m    971\u001b[0m \u001b[38;5;250m\u001b[39m\u001b[38;5;124;03m\"\"\"\u001b[39;00m\n\u001b[1;32m    972\u001b[0m \u001b[38;5;124;03mSet appearance parameters for ticks, ticklabels, and gridlines.\u001b[39;00m\n\u001b[1;32m    973\u001b[0m \n\u001b[0;32m   (...)\u001b[0m\n\u001b[1;32m    981\u001b[0m \u001b[38;5;124;03m    gridlines.\u001b[39;00m\n\u001b[1;32m    982\u001b[0m \u001b[38;5;124;03m\"\"\"\u001b[39;00m\n\u001b[1;32m    983\u001b[0m _api\u001b[38;5;241m.\u001b[39mcheck_in_list([\u001b[38;5;124m'\u001b[39m\u001b[38;5;124mmajor\u001b[39m\u001b[38;5;124m'\u001b[39m, \u001b[38;5;124m'\u001b[39m\u001b[38;5;124mminor\u001b[39m\u001b[38;5;124m'\u001b[39m, \u001b[38;5;124m'\u001b[39m\u001b[38;5;124mboth\u001b[39m\u001b[38;5;124m'\u001b[39m], which\u001b[38;5;241m=\u001b[39mwhich)\n\u001b[0;32m--> 984\u001b[0m kwtrans \u001b[38;5;241m=\u001b[39m \u001b[38;5;28;43mself\u001b[39;49m\u001b[38;5;241;43m.\u001b[39;49m\u001b[43m_translate_tick_params\u001b[49m\u001b[43m(\u001b[49m\u001b[43mkwargs\u001b[49m\u001b[43m)\u001b[49m\n\u001b[1;32m    986\u001b[0m \u001b[38;5;66;03m# the kwargs are stored in self._major/minor_tick_kw so that any\u001b[39;00m\n\u001b[1;32m    987\u001b[0m \u001b[38;5;66;03m# future new ticks will automatically get them\u001b[39;00m\n\u001b[1;32m    988\u001b[0m \u001b[38;5;28;01mif\u001b[39;00m reset:\n",
      "File \u001b[0;32m~/Desktop/Capstone/myenv/lib/python3.12/site-packages/matplotlib/axis.py:1128\u001b[0m, in \u001b[0;36mAxis._translate_tick_params\u001b[0;34m(kw, reverse)\u001b[0m\n\u001b[1;32m   1126\u001b[0m \u001b[38;5;28;01mfor\u001b[39;00m key \u001b[38;5;129;01min\u001b[39;00m kw_:\n\u001b[1;32m   1127\u001b[0m     \u001b[38;5;28;01mif\u001b[39;00m key \u001b[38;5;129;01mnot\u001b[39;00m \u001b[38;5;129;01min\u001b[39;00m allowed_keys:\n\u001b[0;32m-> 1128\u001b[0m         \u001b[38;5;28;01mraise\u001b[39;00m \u001b[38;5;167;01mValueError\u001b[39;00m(\n\u001b[1;32m   1129\u001b[0m             \u001b[38;5;124m\"\u001b[39m\u001b[38;5;124mkeyword \u001b[39m\u001b[38;5;132;01m%s\u001b[39;00m\u001b[38;5;124m is not recognized; valid keywords are \u001b[39m\u001b[38;5;132;01m%s\u001b[39;00m\u001b[38;5;124m\"\u001b[39m\n\u001b[1;32m   1130\u001b[0m             \u001b[38;5;241m%\u001b[39m (key, allowed_keys))\n\u001b[1;32m   1131\u001b[0m kwtrans\u001b[38;5;241m.\u001b[39mupdate(kw_)\n\u001b[1;32m   1132\u001b[0m \u001b[38;5;28;01mreturn\u001b[39;00m kwtrans\n",
      "\u001b[0;31mValueError\u001b[0m: keyword grid_visibleb is not recognized; valid keywords are ['size', 'width', 'color', 'tickdir', 'pad', 'labelsize', 'labelcolor', 'labelfontfamily', 'zorder', 'gridOn', 'tick1On', 'tick2On', 'label1On', 'label2On', 'length', 'direction', 'left', 'bottom', 'right', 'top', 'labelleft', 'labelbottom', 'labelright', 'labeltop', 'labelrotation', 'grid_agg_filter', 'grid_alpha', 'grid_animated', 'grid_antialiased', 'grid_clip_box', 'grid_clip_on', 'grid_clip_path', 'grid_color', 'grid_dash_capstyle', 'grid_dash_joinstyle', 'grid_dashes', 'grid_data', 'grid_drawstyle', 'grid_figure', 'grid_fillstyle', 'grid_gapcolor', 'grid_gid', 'grid_in_layout', 'grid_label', 'grid_linestyle', 'grid_linewidth', 'grid_marker', 'grid_markeredgecolor', 'grid_markeredgewidth', 'grid_markerfacecolor', 'grid_markerfacecoloralt', 'grid_markersize', 'grid_markevery', 'grid_mouseover', 'grid_path_effects', 'grid_picker', 'grid_pickradius', 'grid_rasterized', 'grid_sketch_params', 'grid_snap', 'grid_solid_capstyle', 'grid_solid_joinstyle', 'grid_transform', 'grid_url', 'grid_visible', 'grid_xdata', 'grid_ydata', 'grid_zorder', 'grid_aa', 'grid_c', 'grid_ds', 'grid_ls', 'grid_lw', 'grid_mec', 'grid_mew', 'grid_mfc', 'grid_mfcalt', 'grid_ms']"
     ]
    },
    {
     "data": {
      "image/png": "[encoded data removed]",
      "text/plain": [
       "<Figure size 1200x800 with 1 Axes>"
      ]
     },
     "metadata": {},
     "output_type": "display_data"
    }
   ],
   "source": [
    "import joblib \n",
    "import matplotlib.pyplot as plt\n",
    "import pandas as pd\n",
    "import numpy as np\n",
    "\n",
    "\n",
    "MCU = 'ESP'\n",
    "Alg = 'LR'\n",
    "\n",
    "Results_file = '/Users/sarahalabdulrazzak/Desktop/Capstone/myenv/FANOS_lab copy/HANDOVER/ALL_Results_and_Codes/MAP/MCU/MCU_Results_MAP/ESPMAP_Results_.txt'\n",
    "CDF_file = '/Users/sarahalabdulrazzak/Desktop/Capstone/myenv/FANOS_lab copy/HANDOVER/ALL_Results_and_Codes/MAP/MCU/MCU_Results_MAP/MAP_ESP_Error_CDF_DT.svg'\n",
    "Test_Error_file = '/Users/sarahalabdulrazzak/Desktop/Capstone/myenv/FANOS_lab copy/HANDOVER/ALL_Results_and_Codes/MAP/MCU/MCU_Results_MAP/MAP_ESP_Test_Error_LR.pkl'\n",
    "\n",
    "\n",
    "Test_Error = test_labels.values - Predictions_df['Pred_SBP'].values\n",
    "Test_ME = np.mean(Test_Error)\n",
    "Inf_Times_avg = np.mean(Predictions_df['Inf_Time'].values)\n",
    "Test_std = np.std(Test_Error)\n",
    "Test_MAE = np.mean(abs(Test_Error))\n",
    "joblib.dump(Test_Error, Test_Error_file)\n",
    "\n",
    "# Writing Results in Text File: \n",
    "textfile = open(Results_file, 'a')\n",
    "textfile.write('Results for ' + TARGET + ' ' + Alg + ' '+ MCU + '\\n')\n",
    "textfile.write('Test ME: ' + str(Test_ME) + '\\n')\n",
    "textfile.write('Test Std: ' + str(Test_std) + '\\n')\n",
    "textfile.write('Test MAE: ' + str(Test_MAE) + '\\n')\n",
    "textfile.write('Average Inference Time: ' + str(Inf_Times_avg) + '\\n')\n",
    "textfile.write('=========================================' + '\\n')\n",
    "textfile.close()\n",
    "\n",
    "# Plot & Save CDF of Error\n",
    "fig, ax = plt.subplots(figsize=(12, 8))\n",
    "ax.hist(abs(Test_Error), 500, density=1, histtype='step', cumulative=True, label='Empirical')\n",
    "plt.grid(visible=True, which='major', color='gray', alpha=0.6, linestyle='dashdot', lw=1.5)\n",
    "#minor grid lines\n",
    "plt.minorticks_on()\n",
    "plt.xlabel('Error (mmHg)')\n",
    "plt.ylabel('Imperical CDF')\n",
    "plt.title('CDF of %s Estimation Error Using %s on %s' %(TARGET, Alg, MCU))\n",
    "plt.grid(visible=True, which='minor', color='beige', alpha=0.8, ls='-', lw=1)\n",
    "plt.savefig(CDF_file, format='svg', dpi=1200)\n",
    "\n"
   ]
  },
  {
   "cell_type": "code",
   "execution_count": 13,
   "metadata": {},
   "outputs": [
    {
     "name": "stdout",
     "output_type": "stream",
     "text": [
      "Results for SBP-LR-MCU\n",
      "\n",
      "Test ME: 58.17891803729484\n",
      "\n",
      "Test Std: 21.26621993921236\n",
      "\n",
      "Test MAE: 58.17891803729484\n",
      "\n",
      "Average Inference Time: 4.031631097560975\n",
      "\n",
      "=========================================\n",
      "\n"
     ]
    }
   ],
   "source": [
    "print('Results for ' + 'SBP-LR-MCU' + '\\n')\n",
    "print('Test ME: ' + str(Test_ME) + '\\n')\n",
    "print('Test Std: ' + str(Test_std) + '\\n')\n",
    "print('Test MAE: ' + str(Test_MAE) + '\\n')\n",
    "print('Average Inference Time: ' + str(Inf_Times_avg) + '\\n')\n",
    "print('=========================================' + '\\n')"
   ]
  },
  {
   "cell_type": "code",
   "execution_count": 12,
   "metadata": {},
   "outputs": [
    {
     "data": {
      "text/plain": [
       "['Predictions_df_LR_Ard_0414.pkl']"
      ]
     },
     "execution_count": 12,
     "metadata": {},
     "output_type": "execute_result"
    }
   ],
   "source": [
    "import joblib\n",
    "joblib.dump(Predictions_df,\"Predictions_df_LR_Ard_0414.pkl\")"
   ]
  }
 ],
 "metadata": {
  "kernelspec": {
   "display_name": "myenv",
   "language": "python",
   "name": "python3"
  },
  "language_info": {
   "codemirror_mode": {
    "name": "ipython",
    "version": 3
   },
   "file_extension": ".py",
   "mimetype": "text/x-python",
   "name": "python",
   "nbconvert_exporter": "python",
   "pygments_lexer": "ipython3",
   "version": "3.12.6"
  }
 },
 "nbformat": 4,
 "nbformat_minor": 2
}

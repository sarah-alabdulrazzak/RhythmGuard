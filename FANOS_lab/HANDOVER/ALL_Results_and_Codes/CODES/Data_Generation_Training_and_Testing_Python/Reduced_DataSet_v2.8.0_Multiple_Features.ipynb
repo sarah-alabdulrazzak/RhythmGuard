{
 "cells": [
  {
   "cell_type": "markdown",
   "metadata": {},
   "source": [
    "# Reduced Dataset from UCI "
   ]
  },
  {
   "cell_type": "markdown",
   "metadata": {},
   "source": [
    "## Loading data and calculating indices "
   ]
  },
  {
   "cell_type": "code",
   "execution_count": 2,
   "metadata": {},
   "outputs": [],
   "source": [
    "import pandas as pd \n",
    "import numpy as np\n",
    "import matplotlib.pyplot as plt\n",
    "from tqdm import tqdm # for the progress bar :) "
   ]
  },
  {
   "cell_type": "code",
   "execution_count": 3,
   "metadata": {},
   "outputs": [],
   "source": [
    "# for single csv file of 1,000 instants, use this directory & change file name as needed\n",
    "#Data_Dir = \"C:/1_Work/FANOS_lab/Reduced_Processed_Dataset_UCI_Kauchee/Generated_CSVs_from_Reduced_Dataset/12_Files_1000_instant_each/\"\n",
    "#File_name = \"1.csv\" # files 1 - 12, each with 1,000 instants\n",
    "\n",
    "# To load all data from a single file: \n",
    "Data_Dir = \"C:/1_Work/FANOS_lab/Reduced_Processed_Dataset_UCI_Kauchee/Generated_CSVs_from_Reduced_Dataset/Single_File/\"\n",
    "File_name = \"All_Signals.csv\" # All instants, 12,000, in a single csv file\n",
    "\n",
    "# Now read data header-less then give the col names\n",
    "Signals = pd.read_csv(Data_Dir + File_name, header=None) #.reset_index()\n",
    "Signals.columns = ['PPG','ABP','ECG'] # adding columns' names\n",
    "\n",
    "# Reading the instants' lengthes to be used for calculating indices\n",
    "Data_Indices = pd.read_csv(Data_Dir+\"Instants_Length.csv\", header=None)\n",
    "Data_Indices.columns = ['Num_Samples']\n",
    "\n",
    "# Calculating Instant Indices, Start & End\n",
    "End_indices = np.cumsum(Data_Indices[\"Num_Samples\"])\n",
    "Start_indices = np.append(0, End_indices) \n",
    "\n",
    "# Sampling frequency\n",
    "Fs=125"
   ]
  },
  {
   "cell_type": "markdown",
   "metadata": {},
   "source": [
    "## Converting signals into PTT, PTTm, PTTh, HR, SBP, DBP, MAP values"
   ]
  },
  {
   "cell_type": "code",
   "execution_count": 9,
   "metadata": {},
   "outputs": [
    {
     "name": "stderr",
     "output_type": "stream",
     "text": [
      "  2%|███                                                                                                                                                                                                | 189/12000 [00:19<21:30,  9.15it/s]C:\\Users\\ahmedk1\\.conda\\envs\\fromBase\\lib\\site-packages\\numpy\\core\\fromnumeric.py:3372: RuntimeWarning: Mean of empty slice.\n",
      "  return _methods._mean(a, axis=axis, dtype=dtype,\n",
      "C:\\Users\\ahmedk1\\.conda\\envs\\fromBase\\lib\\site-packages\\numpy\\core\\_methods.py:170: RuntimeWarning: invalid value encountered in double_scalars\n",
      "  ret = ret.dtype.type(ret / rcount)\n",
      "100%|█████████████████████████████████████████████████████████████████████████████████████████████████████████████████████████████████████████████████████████████████████████████████████████████████| 12000/12000 [15:13<00:00, 13.14it/s]\n"
     ]
    }
   ],
   "source": [
    "# Looping over the instants, processing them one by one, storing processed data (PTT, SBP, DBP) in another dataframe\n",
    "All_Instants_Data = pd.DataFrame() \n",
    "\n",
    "# Which instants would you like to explore?\n",
    "iStart, iEnd = 1, 12000 # 1:12,000 \n",
    "Instants_ID = np.arange(iStart - 1, iEnd)\n",
    "Subset_Size = 8*125 # how many seconds to take at a time\n",
    "\n",
    "for ID in tqdm(Instants_ID):  \n",
    "    Instant_DF = Process_Instant(Signals.iloc[Start_indices[ID]:End_indices[ID]+1], Subset_Size)  # Processing data for 1 instant\n",
    "    All_Instants_Data = All_Instants_Data.append(Instant_DF, ignore_index=True) # Appending to the whole processed dataset"
   ]
  },
  {
   "cell_type": "code",
   "execution_count": 24,
   "metadata": {},
   "outputs": [
    {
     "data": {
      "text/html": [
       "<div>\n",
       "<style scoped>\n",
       "    .dataframe tbody tr th:only-of-type {\n",
       "        vertical-align: middle;\n",
       "    }\n",
       "\n",
       "    .dataframe tbody tr th {\n",
       "        vertical-align: top;\n",
       "    }\n",
       "\n",
       "    .dataframe thead th {\n",
       "        text-align: right;\n",
       "    }\n",
       "</style>\n",
       "<table border=\"1\" class=\"dataframe\">\n",
       "  <thead>\n",
       "    <tr style=\"text-align: right;\">\n",
       "      <th></th>\n",
       "      <th>PTTh</th>\n",
       "      <th>PTTm</th>\n",
       "      <th>PTT</th>\n",
       "      <th>HR</th>\n",
       "      <th>SBP</th>\n",
       "      <th>DBP</th>\n",
       "      <th>MAP</th>\n",
       "    </tr>\n",
       "  </thead>\n",
       "  <tbody>\n",
       "    <tr>\n",
       "      <th>count</th>\n",
       "      <td>224017.000000</td>\n",
       "      <td>224017.000000</td>\n",
       "      <td>224017.000000</td>\n",
       "      <td>224017.000000</td>\n",
       "      <td>224017.000000</td>\n",
       "      <td>224017.000000</td>\n",
       "      <td>224017.000000</td>\n",
       "    </tr>\n",
       "    <tr>\n",
       "      <th>mean</th>\n",
       "      <td>1.502436</td>\n",
       "      <td>1.125356</td>\n",
       "      <td>0.575596</td>\n",
       "      <td>92.394599</td>\n",
       "      <td>133.576023</td>\n",
       "      <td>71.387614</td>\n",
       "      <td>93.667467</td>\n",
       "    </tr>\n",
       "    <tr>\n",
       "      <th>std</th>\n",
       "      <td>0.471776</td>\n",
       "      <td>0.467996</td>\n",
       "      <td>0.328781</td>\n",
       "      <td>15.733808</td>\n",
       "      <td>20.316135</td>\n",
       "      <td>9.771469</td>\n",
       "      <td>11.612897</td>\n",
       "    </tr>\n",
       "    <tr>\n",
       "      <th>min</th>\n",
       "      <td>0.132734</td>\n",
       "      <td>0.030500</td>\n",
       "      <td>0.008000</td>\n",
       "      <td>54.415423</td>\n",
       "      <td>80.019000</td>\n",
       "      <td>60.000000</td>\n",
       "      <td>66.646760</td>\n",
       "    </tr>\n",
       "    <tr>\n",
       "      <th>25%</th>\n",
       "      <td>1.391544</td>\n",
       "      <td>0.924800</td>\n",
       "      <td>0.432667</td>\n",
       "      <td>80.456582</td>\n",
       "      <td>118.808333</td>\n",
       "      <td>64.047526</td>\n",
       "      <td>85.024067</td>\n",
       "    </tr>\n",
       "    <tr>\n",
       "      <th>50%</th>\n",
       "      <td>1.673225</td>\n",
       "      <td>1.120000</td>\n",
       "      <td>0.612571</td>\n",
       "      <td>91.519219</td>\n",
       "      <td>132.973333</td>\n",
       "      <td>68.917933</td>\n",
       "      <td>91.924155</td>\n",
       "    </tr>\n",
       "    <tr>\n",
       "      <th>75%</th>\n",
       "      <td>1.827060</td>\n",
       "      <td>1.282667</td>\n",
       "      <td>0.664615</td>\n",
       "      <td>102.120974</td>\n",
       "      <td>148.020000</td>\n",
       "      <td>76.167333</td>\n",
       "      <td>100.996230</td>\n",
       "    </tr>\n",
       "    <tr>\n",
       "      <th>max</th>\n",
       "      <td>2.608299</td>\n",
       "      <td>4.086000</td>\n",
       "      <td>2.256800</td>\n",
       "      <td>155.795596</td>\n",
       "      <td>180.000000</td>\n",
       "      <td>129.955385</td>\n",
       "      <td>148.771474</td>\n",
       "    </tr>\n",
       "  </tbody>\n",
       "</table>\n",
       "</div>"
      ],
      "text/plain": [
       "                PTTh           PTTm            PTT             HR  \\\n",
       "count  224017.000000  224017.000000  224017.000000  224017.000000   \n",
       "mean        1.502436       1.125356       0.575596      92.394599   \n",
       "std         0.471776       0.467996       0.328781      15.733808   \n",
       "min         0.132734       0.030500       0.008000      54.415423   \n",
       "25%         1.391544       0.924800       0.432667      80.456582   \n",
       "50%         1.673225       1.120000       0.612571      91.519219   \n",
       "75%         1.827060       1.282667       0.664615     102.120974   \n",
       "max         2.608299       4.086000       2.256800     155.795596   \n",
       "\n",
       "                 SBP            DBP            MAP  \n",
       "count  224017.000000  224017.000000  224017.000000  \n",
       "mean      133.576023      71.387614      93.667467  \n",
       "std        20.316135       9.771469      11.612897  \n",
       "min        80.019000      60.000000      66.646760  \n",
       "25%       118.808333      64.047526      85.024067  \n",
       "50%       132.973333      68.917933      91.924155  \n",
       "75%       148.020000      76.167333     100.996230  \n",
       "max       180.000000     129.955385     148.771474  "
      ]
     },
     "execution_count": 24,
     "metadata": {},
     "output_type": "execute_result"
    }
   ],
   "source": [
    "All_Instants_Data.describe()"
   ]
  },
  {
   "cell_type": "code",
   "execution_count": 40,
   "metadata": {},
   "outputs": [],
   "source": [
    "All_Instants_Data.loc[:,['HR','SBP', 'DBP','MAP']].describe().to_csv(\"data_description_after_removing_outliers.csv\")#Saving Stats"
   ]
  },
  {
   "cell_type": "code",
   "execution_count": 14,
   "metadata": {},
   "outputs": [],
   "source": [
    "All_Instants_Data.to_csv('Extracted_Instants_Parameters_8secWindow_PTTm_PTTh_MAP_210621.csv') # Saving Dataset"
   ]
  },
  {
   "cell_type": "markdown",
   "metadata": {},
   "source": [
    "## Helper Functions"
   ]
  },
  {
   "cell_type": "markdown",
   "metadata": {},
   "source": [
    "### PPG, ABP, ECG signals to PTT, PTTm, PTTh, SBP, DBP, MAP, HR values"
   ]
  },
  {
   "cell_type": "code",
   "execution_count": 8,
   "metadata": {},
   "outputs": [],
   "source": [
    "def Process_Instant(Signals, Subset_Size = 125*3): # defulat Subset_Size to cover 3 seconds of data samples\n",
    "    \n",
    "    import numpy as np\n",
    "    from scipy.signal import find_peaks\n",
    "    import pandas as pd\n",
    "    \n",
    "    N_tot = len(Signals.index) # Total number of samples\n",
    "    N_ps = Subset_Size # Num of points per subset\n",
    "    N_ss = N_tot//N_ps # Number of subsets (each with N_ps points), discarding the last points < N_ps\n",
    "    All_data=pd.DataFrame() # an empty DF to store the parameters we got from the processed data \n",
    "    fs=125 # used to convert PPTp from Number_of_samples to time (same as in main. If changed, pass it to this fn)\n",
    "    \n",
    "    for i in range(N_ss):  # USE find_peaks_cwt instead??\n",
    "           \n",
    "        # I found, imperically, that find_peaks works better for PPG compared with ECG & ABP\n",
    "        # So, I am detecting PPG peaks fisrt, then using 0.8*its average distance to be the min spacing for ECG & ABP peaks!\n",
    "        # Hopefully this may return more accurate PTT calculations\n",
    "        \n",
    "        \n",
    "        # PPG peaks' locations\n",
    "        PPG_peaks, _ = find_peaks(Signals['PPG'][i*N_ps:(i+1)*N_ps], distance=40)\n",
    "        if len(PPG_peaks)<2: \n",
    "            print('PPG')\n",
    "            continue\n",
    "        \n",
    "        New_dist = 0.8*np.mean(np.diff(PPG_peaks))\n",
    "        \n",
    "        # PPG min' locations\n",
    "        PPG_min, _ = find_peaks(-1*Signals['PPG'][i*N_ps:(i+1)*N_ps], distance=New_dist)\n",
    "        if len(PPG_min)<2: \n",
    "            print('PPG')\n",
    "            continue\n",
    "        \n",
    "        # ECG peaks' locations & MAP \n",
    "        ECG_peaks, _ = find_peaks(Signals['ECG'][i*N_ps:(i+1)*N_ps], distance=New_dist) \n",
    "        MAP = np.mean(Signals['ABP'].iloc[i*N_ps + np.arange(ECG_peaks[0], ECG_peaks[-1]+1)].values) #### VALUES not indicies\n",
    "        if len(ECG_peaks)<2: \n",
    "            print('ECG')\n",
    "            continue\n",
    "        \n",
    "        \n",
    "        if PPG_peaks[-1]<ECG_peaks[0]: \n",
    "            print('ECG lagging too much')\n",
    "            continue\n",
    "        \n",
    "        # PPT Calculations:\n",
    "        # The 1st PPG peak has to lag the 1st ECG peak, if not then drop it and consider the next one.\n",
    "        Lp, Le, Lm = len(PPG_peaks), len(ECG_peaks), len(PPG_min)\n",
    "        min_pe = min(Lp, Le, Lm)\n",
    "        Lpe = min(Lp,Le)\n",
    "        Lme = min(Lm,Le)\n",
    "        Lmp = min(Lp,Lm)\n",
    "        \n",
    "        if (PPG_peaks[0]>ECG_peaks[0]) and (PPG_min[0]>PPG_peaks[0]): # may add more conditions here for ACCEPTABLE PTT values\n",
    "            PTT_vec = PPG_peaks[:Lpe] - ECG_peaks[:Lpe]\n",
    "            PTT_min_vec = PPG_min[:Lme] - ECG_peaks[:Lme]\n",
    "            PTT_h_vec = Signals['PPG'].iloc[i*N_ps + PPG_peaks[:Lmp]].values - Signals['PPG'].iloc[i*N_ps + PPG_min[:Lmp]].values #### VALUES not indicies\n",
    "            \n",
    "        else: # start from the 2nd PPG peak all the way to one before the last ECG peak\n",
    "            s = 1\n",
    "            while (PPG_peaks[s]<ECG_peaks[0]) and (s<=Lp-1):\n",
    "                s+=1\n",
    "            ind_max_ECG = min(Lp-s,Le) # common last elem index between max & ECG vectors\n",
    "            PTT_vec = PPG_peaks[s:s+ind_max_ECG] - ECG_peaks[:ind_max_ECG] # PATp\n",
    "            \n",
    "            # Now making sure that min's follows max's\n",
    "            r = 0\n",
    "            while (PPG_min[r]<PPG_peaks[s]) and (r<=Lm-1):\n",
    "                r+=1\n",
    "            ind_m_ECG = min(Lm-r,Le) # common last elem index between min & ECG vectors\n",
    "            PTT_min_vec = PPG_min[r:r+ind_m_ECG] - ECG_peaks[:ind_m_ECG] # PATf\n",
    "            ind_h_min = min(Lp-s, Lm-r) # common last elem index between min & max vectors\n",
    "            PTT_h_vec = Signals['PPG'].iloc[i*N_ps + PPG_peaks[s:s+ind_h_min]].values - Signals['PPG'].iloc[i*N_ps + PPG_min[r:r+ind_h_min]].values # PPGmax - PPGmin (i.e. PPG height)\n",
    "        \n",
    "        PTT_vec_p = [x for x in PTT_vec if x>0] # forcing positive values\n",
    "        PTT_min_vec_p = [x for x in PTT_min_vec if x>0]\n",
    "        PTT_h_vec_p = [x for x in PTT_h_vec if x>0]\n",
    "        \n",
    "        PTT_avg = np.mean(PTT_vec_p)\n",
    "        PTT_min_avg = np.mean(PTT_min_vec_p)\n",
    "        PTT_h_avg = np.mean(PTT_h_vec_p)\n",
    "        \n",
    "        \n",
    "        \n",
    "        # BP Min & Max Peaks' (DBP & SBP) locations\n",
    "        BPmax_peaks, _ = find_peaks(Signals['ABP'][i*N_ps:(i+1)*N_ps], distance=New_dist) # indices of SBP\n",
    "        BPmin_peaks, _ = find_peaks(-1*Signals['ABP'][i*N_ps:(i+1)*N_ps], distance=New_dist) # indices of DBP\n",
    "        \n",
    "        \n",
    "            # Calculate HR by averaging distances from ECG, PPG, BPmax, BPmin\n",
    "        HR_ECG = np.mean(np.diff(ECG_peaks))\n",
    "        HR_PPG = np.mean(np.diff(PPG_peaks))\n",
    "        HR_PPG_min = np.mean(np.diff(PPG_min))\n",
    "        HR_SBP = np.mean(np.diff(BPmax_peaks))\n",
    "        HR_DBP = np.mean(np.diff(BPmin_peaks))\n",
    "        HR_avg = 125*60/((HR_ECG + HR_PPG + HR_SBP + HR_DBP + HR_PPG_min)/5) # HR per minute\n",
    "        ############################ 125*60/(mean(diff))\n",
    "        \n",
    "        # Creating DF's of SBP, DBP, and HR along with the time axis to be merged with the Subset DF\n",
    "        SBP_avg = np.mean(Signals.iloc[i*N_ps + BPmax_peaks].loc[:,['ABP']])\n",
    "        DBP_avg = np.mean(Signals.iloc[i*N_ps + BPmin_peaks].loc[:,['ABP']]) \n",
    "        \n",
    "        \n",
    "        # Append log_PPT, log-scale is more convinient for estimating BP (inspired from an approx eqn)\n",
    "        Subset_DF = pd.DataFrame({'PTT':np.log(PTT_avg/fs), \n",
    "                                  'PTTm':np.log(PTT_min_avg/fs), \n",
    "                                  'PTTh':PTT_h_avg,\n",
    "                                  'SBP':SBP_avg,\n",
    "                                  'DBP':DBP_avg,\n",
    "                                  'MAP':MAP,\n",
    "                                  'HR':HR_avg})\n",
    "         \n",
    "        \n",
    "        # Finally, append the DF of the current subset to the whole DF for all patients (may add more numerics, ID, ... later)\n",
    "        All_data=All_data.append(Subset_DF, ignore_index=True)\n",
    "    return All_data\n",
    "    "
   ]
  },
  {
   "cell_type": "markdown",
   "metadata": {},
   "source": [
    "# Start Here When You Have Processed Data! "
   ]
  },
  {
   "cell_type": "markdown",
   "metadata": {},
   "source": [
    "## 3) Preparing Data for Regression [Predictive Models]"
   ]
  },
  {
   "cell_type": "markdown",
   "metadata": {},
   "source": [
    "### 3.0 Load Data, Remove NaN & Outliers"
   ]
  },
  {
   "cell_type": "code",
   "execution_count": 88,
   "metadata": {},
   "outputs": [],
   "source": [
    "import pandas as pd\n",
    "import numpy as np\n",
    "\n",
    "take_log_PTT = 0 # if not log, then all values are positive & the outliers are as defined\n",
    "Remove_HR_Outliers = 1 # =1 if required more constraints on HR ( 54.4 < HR < 155.8) \n",
    "Remove_PTT_Outliers = 1\n",
    "Remove_BP_Outliers = 1\n",
    "\n",
    "Remove_PTTm_Outliers = 0 #(PATf)\n",
    "Remove_PTTh_Outliers = 0 #(PPG Max-to-Min)\n",
    "\n",
    "\n",
    "All_Instants_Data2 = pd.read_csv('Extracted_Instants_Parameters_8secWindow_PTTm_PTTh_MAP_210621.csv')\n",
    "All_Instants_Data2.dropna(inplace=True)\n",
    "All_Instants_Data = All_Instants_Data2\n",
    "\n",
    "if take_log_PTT != 1:\n",
    "    All_Instants_Data['PTT'] = np.exp(All_Instants_Data['PTT']) ################ NOT LOG ANYMORE # By commenting this, it is log\n",
    "    All_Instants_Data['PTTm'] = np.exp(All_Instants_Data['PTTm'])\n",
    "\n",
    "# Removing BP Outliers\n",
    "if Remove_BP_Outliers == 1:\n",
    "    cond_BP = ((All_Instants_Data['SBP']<180) & (All_Instants_Data['SBP']>80)) & ((All_Instants_Data['DBP']<130) & (All_Instants_Data['DBP']>60))\n",
    "    All_Instants_Data= All_Instants_Data.loc[cond_BP, ['PTTh','PTTm','PTT','HR','SBP', 'DBP','MAP']]\n",
    "\n",
    "# Removing HR Outliers\n",
    "if Remove_HR_Outliers == 1: \n",
    "    cond_HR = ((All_Instants_Data['HR']>54.4) & (All_Instants_Data['HR']<155.8))\n",
    "    All_Instants_Data= All_Instants_Data.loc[cond_HR, ['PTTh','PTTm','PTT','HR','SBP', 'DBP','MAP']]\n",
    "    \n",
    "# Removing PTT Ouliers (outlier if PTT>1.5) # So far, considering PTT<0.5 range gave the best result\n",
    "if Remove_PTT_Outliers == 1: \n",
    "    cond_PTT = (All_Instants_Data['PTT']<0.4) #& (All_Instants_Data['PTT']>0.2)#& (All_Instants_Data['PTT']>.015) #### KEEP <0.4 only ##################\n",
    "    All_Instants_Data= All_Instants_Data.loc[cond_PTT, ['PTTh','PTTm','PTT','HR','SBP', 'DBP','MAP']]\n",
    "    \n",
    "# Removing PTTm (PATf) Outliers\n",
    "if Remove_PTTm_Outliers == 1: \n",
    "    cond_PTTm = ((All_Instants_Data['PTTm']>0.7) & (All_Instants_Data['PTTm']<1.5))\n",
    "    All_Instants_Data= All_Instants_Data.loc[cond_PTTm, ['PTTh','PTTm','PTT','HR','SBP', 'DBP','MAP']]\n",
    "    \n",
    "# Removing PTTh (PPG Max-to-Min) Outliers\n",
    "if Remove_PTTh_Outliers == 1: \n",
    "    cond_PTTh = ((All_Instants_Data['PTTh']>1) & (All_Instants_Data['PTTh']<2))\n",
    "    All_Instants_Data= All_Instants_Data.loc[cond_PTTh, ['PTTh','PTTm','PTT','HR','SBP', 'DBP','MAP']]"
   ]
  },
  {
   "cell_type": "code",
   "execution_count": 18,
   "metadata": {},
   "outputs": [
    {
     "data": {
      "image/png": "[encoded data removed]",
      "text/plain": [
       "<Figure size 1080x720 with 1 Axes>"
      ]
     },
     "metadata": {
      "needs_background": "light"
     },
     "output_type": "display_data"
    }
   ],
   "source": [
    "# Plotting the distributions of SBP, DBP, MAP, and HR\n",
    "import matplotlib.pyplot as plt\n",
    "data_to_plot = 'HR'\n",
    "title_dist = data_to_plot + \" Histogram\"\n",
    "plt.rcParams[\"figure.figsize\"]=15,10\n",
    "Data_intervals_minutes = All_Instants_Data[data_to_plot]\n",
    "Data_intervals_minutes.hist(rwidth=0.9)\n",
    "plt.title(title_dist)\n",
    "plt.xlabel(\"Value (bpm)\");\n",
    "plt.ylabel(\"Frequency\");\n",
    "plt.savefig(title_dist+'.svg', format='svg', dpi=1200)"
   ]
  },
  {
   "cell_type": "markdown",
   "metadata": {},
   "source": [
    "## Regression (Train & Test Results, Accuracies, and Statistics)"
   ]
  },
  {
   "cell_type": "code",
   "execution_count": 6,
   "metadata": {},
   "outputs": [
    {
     "name": "stderr",
     "output_type": "stream",
     "text": [
      "C:\\Users\\ahmedk1\\.conda\\envs\\py371_sklearn0201\\lib\\site-packages\\sklearn\\ensemble\\base.py:158: DeprecationWarning: `np.int` is a deprecated alias for the builtin `int`. To silence this warning, use `int` by itself. Doing this will not modify any behavior and is safe. When replacing `np.int`, you may wish to use e.g. `np.int64` or `np.int32` to specify the precision. If you wish to review your current use, check the release note link for additional information.\n",
      "Deprecated in NumPy 1.20; for more details and guidance: https://numpy.org/devdocs/release/1.20.0-notes.html#deprecations\n",
      "  dtype=np.int)\n",
      "C:\\Users\\ahmedk1\\.conda\\envs\\py371_sklearn0201\\lib\\site-packages\\sklearn\\ensemble\\base.py:158: DeprecationWarning: `np.int` is a deprecated alias for the builtin `int`. To silence this warning, use `int` by itself. Doing this will not modify any behavior and is safe. When replacing `np.int`, you may wish to use e.g. `np.int64` or `np.int32` to specify the precision. If you wish to review your current use, check the release note link for additional information.\n",
      "Deprecated in NumPy 1.20; for more details and guidance: https://numpy.org/devdocs/release/1.20.0-notes.html#deprecations\n",
      "  dtype=np.int)\n",
      "C:\\Users\\ahmedk1\\.conda\\envs\\py371_sklearn0201\\lib\\site-packages\\sklearn\\svm\\base.py:922: ConvergenceWarning: Liblinear failed to converge, increase the number of iterations.\n",
      "  \"the number of iterations.\", ConvergenceWarning)\n"
     ]
    },
    {
     "data": {
      "image/png": "[encoded data removed]",
      "text/plain": [
       "<Figure size 864x576 with 1 Axes>"
      ]
     },
     "metadata": {
      "needs_background": "light"
     },
     "output_type": "display_data"
    },
    {
     "data": {
      "image/png": "[encoded data removed]",
      "text/plain": [
       "<Figure size 864x576 with 1 Axes>"
      ]
     },
     "metadata": {
      "needs_background": "light"
     },
     "output_type": "display_data"
    },
    {
     "data": {
      "image/png": "[encoded data removed]",
      "text/plain": [
       "<Figure size 864x576 with 1 Axes>"
      ]
     },
     "metadata": {
      "needs_background": "light"
     },
     "output_type": "display_data"
    },
    {
     "data": {
      "image/png": "[encoded data removed]",
      "text/plain": [
       "<Figure size 864x576 with 1 Axes>"
      ]
     },
     "metadata": {
      "needs_background": "light"
     },
     "output_type": "display_data"
    },
    {
     "data": {
      "image/png": "[encoded data removed]",
      "text/plain": [
       "<Figure size 864x576 with 1 Axes>"
      ]
     },
     "metadata": {
      "needs_background": "light"
     },
     "output_type": "display_data"
    },
    {
     "data": {
      "image/png": "[encoded data removed]",
      "text/plain": [
       "<Figure size 864x576 with 1 Axes>"
      ]
     },
     "metadata": {
      "needs_background": "light"
     },
     "output_type": "display_data"
    }
   ],
   "source": [
    "from sklearn.model_selection import train_test_split\n",
    "import numpy as np\n",
    "from sklearn.linear_model import LinearRegression\n",
    "from sklearn.metrics import mean_squared_error\n",
    "from FilesfnCopy import RemoveGarbageEncodeObjects, display_scores\n",
    "from sklearn.pipeline import Pipeline\n",
    "from sklearn.preprocessing import StandardScaler\n",
    "import matplotlib.pyplot as plt\n",
    "from sklearn.ensemble import RandomForestRegressor\n",
    "from sklearn.ensemble import AdaBoostRegressor\n",
    "from sklearn.preprocessing import PolynomialFeatures\n",
    "from sklearn.tree import DecisionTreeRegressor\n",
    "from sklearn.svm import LinearSVR\n",
    "from datetime import datetime\n",
    "import m2cgen as m2c\n",
    "import joblib # to save: joblib.dump(model, model_file) .. to load: xyz = joblib.load(\"model_name_as_saved.pkl\")\n",
    "\n",
    "\n",
    "TARGET = 'MAP' # SBP or DBP or MAP\n",
    "Reg_Model_vec = ['AB', 'LR', 'RF', 'PR', 'SVM', 'DT']\n",
    "\n",
    "\n",
    "######################################################################\n",
    "# Data Shuffling and Scaling\n",
    "do_scaling = 0\n",
    "temp_data = All_Instants_Data.loc[:, ['PTTh','PTTm','PTT','HR']]\n",
    "train_copy2_tr, test_copy_tr, train_labels, test_labels = train_test_split(temp_data, All_Instants_Data[TARGET], test_size=0.2, random_state=42,shuffle=True)\n",
    "\n",
    "# Data Scaling\n",
    "if do_scaling == 1:\n",
    "    train_pipeline = Pipeline([\n",
    "            ('GarbageReomve_ObjectDataEncoding', RemoveGarbageEncodeObjects('train',train_copy2_tr)),\n",
    "            ('std_scaler', StandardScaler()),\n",
    "    ])\n",
    "    train_copy2_tr = train_pipeline.fit_transform(train_copy2_tr) # now it is a complete matrix, mean=0, var=1\n",
    "    # Preparing Test Data:\n",
    "    test_pipeline = Pipeline([\n",
    "            ('GarbageReomve_ObjectDataEncoding', RemoveGarbageEncodeObjects('test',test_copy_tr)),\n",
    "            ('std_scaler', StandardScaler()),\n",
    "    ])\n",
    "    test_copy_tr = test_pipeline.fit_transform(test_copy_tr)\n",
    "######################################################################\n",
    "\n",
    "\n",
    "#DaTime = str(datetime.today().strftime('%Y%m%d-%H:%M'))\n",
    "DaTime = \"\"\n",
    "Results_file = TARGET+'_Results_'+ DaTime +'.txt'\n",
    "\n",
    "\n",
    "for Reg_Model in Reg_Model_vec:\n",
    "    Save_Code = 0 # default, unless enabled within alg\n",
    "    \n",
    "    # Setting Models', Var's, Files', and Graphs' names to be saved\n",
    "    Code_file = TARGET + '_Code_' + Reg_Model + DaTime +'.txt'\n",
    "    CDF_file = TARGET + '_Error_CDF_' + Reg_Model + DaTime +'.svg'\n",
    "    Model_file = TARGET + '_Model_' + Reg_Model + DaTime +'.pkl'\n",
    "    Train_Error_file = TARGET + '_Train_Error_' + Reg_Model + DaTime +'.pkl'\n",
    "    Test_Error_file = TARGET + '_Test_Error_' + Reg_Model + DaTime +'.pkl'\n",
    "    ######################################\n",
    "    \n",
    "    # Regression Model:\n",
    "    \n",
    "    #      Linear Regression\n",
    "    if Reg_Model == \"LR\":\n",
    "        lin_reg = LinearRegression()\n",
    "        lin_reg.fit(train_copy2_tr, train_labels)    \n",
    "        Test_Predictions = lin_reg.predict(test_copy_tr)\n",
    "        Train_Predictions = lin_reg.predict(train_copy2_tr)\n",
    "        Save_Code = 1\n",
    "        code = m2c.export_to_c(lin_reg)\n",
    "        joblib.dump(lin_reg, Model_file)\n",
    "        \n",
    "    #      Random Forest\n",
    "    if Reg_Model == \"RF\":\n",
    "        forest_reg = RandomForestRegressor(n_estimators=64, max_leaf_nodes=128, min_samples_leaf=100) #64, 128, 100\n",
    "        forest_reg.fit(train_copy2_tr, train_labels)\n",
    "        Test_Predictions = forest_reg.predict(test_copy_tr)\n",
    "        Train_Predictions = forest_reg.predict(train_copy2_tr)\n",
    "        Save_Code = 1\n",
    "        code = m2c.export_to_c(forest_reg)\n",
    "        joblib.dump(forest_reg, Model_file)\n",
    "        \n",
    "    if Reg_Model == \"AB\":\n",
    "        AB_reg = AdaBoostRegressor(DecisionTreeRegressor(max_leaf_nodes=2*4096, min_samples_leaf=1),n_estimators=1024)\n",
    "        AB_reg.fit(train_copy2_tr, train_labels)    \n",
    "        Test_Predictions = AB_reg.predict(test_copy_tr)\n",
    "        Train_Predictions = AB_reg.predict(train_copy2_tr)\n",
    "        #joblib.dump(AB_reg, Model_file) # REMOVED IT BECAUSE IT IS > 1 GB\n",
    "        \n",
    "    if Reg_Model == \"PR\":\n",
    "        deg_p = 10\n",
    "        poly_features = PolynomialFeatures(degree=deg_p, include_bias=False)\n",
    "        X_poly = poly_features.fit_transform(train_copy2_tr)\n",
    "        poly_lin_reg = LinearRegression()\n",
    "        poly_lin_reg.fit(X_poly, train_labels)\n",
    "        Test_Predictions = poly_lin_reg.predict(poly_features.fit_transform(test_copy_tr)) \n",
    "        Train_Predictions = poly_lin_reg.predict(X_poly)\n",
    "        joblib.dump(poly_lin_reg, Model_file)\n",
    "    \n",
    "    if Reg_Model == \"DT\":\n",
    "        DT_reg = DecisionTreeRegressor(max_leaf_nodes=256, min_samples_leaf=200)\n",
    "        DT_reg.fit(train_copy2_tr, train_labels)    \n",
    "        Test_Predictions = DT_reg.predict(test_copy_tr)\n",
    "        Train_Predictions = DT_reg.predict(train_copy2_tr)\n",
    "        Save_Code = 1\n",
    "        code = m2c.export_to_c(DT_reg)\n",
    "        joblib.dump(DT_reg, Model_file)\n",
    "    \n",
    "    if Reg_Model == \"SVM\":\n",
    "        SVM_reg = LinearSVR(epsilon=1.5) # was 1.5 with MAE=8.293\n",
    "        SVM_reg.fit(train_copy2_tr, train_labels)\n",
    "        Test_Predictions = SVM_reg.predict(test_copy_tr)\n",
    "        Train_Predictions = SVM_reg.predict(train_copy2_tr)\n",
    "        Save_Code = 1\n",
    "        code = m2c.export_to_c(SVM_reg)\n",
    "        joblib.dump(SVM_reg, Model_file)\n",
    "    \n",
    "    \n",
    "    # Errors, ME, MAE, std Calculations:\n",
    "    Train_Error = train_labels - Train_Predictions\n",
    "    Test_Error = test_labels - Test_Predictions\n",
    "    Train_ME = np.mean(Train_Error)\n",
    "    Test_ME = np.mean(Test_Error)\n",
    "    Train_std = np.std(Train_Error)\n",
    "    Test_std = np.std(Test_Error)\n",
    "    Test_MAE = np.mean(abs(Test_Error))\n",
    "    Train_MAE = np.mean(abs(Train_Error))\n",
    "    joblib.dump(Train_Error, Train_Error_file)\n",
    "    joblib.dump(Test_Error, Test_Error_file)\n",
    "    \n",
    "    \n",
    "    # Writing Results in Text File: \n",
    "    textfile = open(Results_file, 'a')\n",
    "    textfile.write('Results for ' + Reg_Model + '\\n')\n",
    "    textfile.write('Test ME: ' + str(Test_ME) + ' , Train ME: ' + str(Train_ME) + '\\n')\n",
    "    textfile.write('Test Std: ' + str(Test_std) + ' , Train Std: ' + str(Train_std) + '\\n')\n",
    "    textfile.write('Test MAE: ' + str(Test_MAE) + ', Train MAE: ' + str(Train_MAE) + '\\n')\n",
    "    textfile.write('=========================================' + '\\n')\n",
    "    textfile.close()\n",
    "    \n",
    "    \n",
    "    # Saving C Code for some models (LR, DT, SVM, RF)\n",
    "    if Save_Code == 1:\n",
    "        textfile = open(Code_file, 'w')\n",
    "        textfile.write(code)\n",
    "        textfile.close()\n",
    "    \n",
    "    \n",
    "    # Plot & Save CDF of Error\n",
    "    fig, ax = plt.subplots(figsize=(12, 8));\n",
    "    ax.hist(abs(Test_Error), 500, density=1, histtype='step', cumulative=True, label='Empirical');\n",
    "    plt.grid(b=True, which='major', color='gray', alpha=0.6, linestyle='dashdot', lw=1.5)\n",
    "    #minor grid lines\n",
    "    plt.minorticks_on()\n",
    "    plt.xlabel('Error (mmHg)')\n",
    "    plt.ylabel('Imperical CDF')\n",
    "    plt.title('CDF of %s Estimation Error Using %s' %(TARGET, Reg_Model))\n",
    "    plt.grid(b=True, which='minor', color='beige', alpha=0.8, ls='-', lw=1)\n",
    "    plt.savefig(CDF_file, format='svg', dpi=1200)"
   ]
  },
  {
   "cell_type": "code",
   "execution_count": 142,
   "metadata": {},
   "outputs": [
    {
     "name": "stdout",
     "output_type": "stream",
     "text": [
      "Results for LRComparing Test(saved model), Train(train on spot), Calc(use eqn)\n",
      "\n",
      "Test ME: 0.07323293924947366 , Train ME: 0.07323293924873378 , Calc ME: 0.07323293924873378\n",
      "\n",
      "Test Std: 20.356507007643895 , Train Std: 20.356507007643017 , Calc Std: 20.356507007643017\n",
      "\n",
      "Test MAE: 16.70278118805816, Train MAE: 16.70278118805666, Calc MAE: 16.70278118805666\n",
      "\n",
      "=========================================\n",
      "\n"
     ]
    },
    {
     "data": {
      "image/png": "[encoded data removed]",
      "text/plain": [
       "<Figure size 864x576 with 1 Axes>"
      ]
     },
     "metadata": {
      "needs_background": "light"
     },
     "output_type": "display_data"
    },
    {
     "data": {
      "image/png": "[encoded data removed]",
      "text/plain": [
       "<Figure size 864x576 with 1 Axes>"
      ]
     },
     "metadata": {
      "needs_background": "light"
     },
     "output_type": "display_data"
    },
    {
     "data": {
      "image/png": "[encoded data removed]",
      "text/plain": [
       "<Figure size 864x576 with 1 Axes>"
      ]
     },
     "metadata": {
      "needs_background": "light"
     },
     "output_type": "display_data"
    }
   ],
   "source": [
    "from sklearn.model_selection import train_test_split\n",
    "import numpy as np\n",
    "from sklearn.linear_model import LinearRegression\n",
    "from sklearn.metrics import mean_squared_error\n",
    "from FilesfnCopy import RemoveGarbageEncodeObjects, display_scores\n",
    "from sklearn.pipeline import Pipeline\n",
    "from sklearn.preprocessing import StandardScaler\n",
    "import matplotlib.pyplot as plt\n",
    "from sklearn.ensemble import RandomForestRegressor\n",
    "from sklearn.ensemble import AdaBoostRegressor\n",
    "from sklearn.preprocessing import PolynomialFeatures\n",
    "from sklearn.tree import DecisionTreeRegressor\n",
    "from sklearn.svm import LinearSVR\n",
    "from datetime import datetime\n",
    "import m2cgen as m2c\n",
    "import joblib # to save: joblib.dump(model, model_file) .. to load: xyz = joblib.load(\"model_name_as_saved.pkl\")\n",
    "\n",
    "\n",
    "TARGET = 'SBP' # SBP or DBP or MAP\n",
    "Reg_Model_vec = ['LR']\n",
    "round_digits = 10\n",
    "\n",
    "######################################################################\n",
    "# Data Shuffling and Scaling\n",
    "do_scaling = 0\n",
    "temp_data = All_Instants_Data.loc[:, ['PTTh','PTTm','PTT','HR']]\n",
    "train_copy2_tr, test_copy_tr, train_labels, test_labels = train_test_split(temp_data, All_Instants_Data[TARGET], test_size=0.2, random_state=42,shuffle=True)\n",
    "\n",
    "\n",
    "    ######################################\n",
    "x=[1]\n",
    "for i in x:    \n",
    "    C_Outputs = pd.DataFrame()\n",
    "    Train_Predictions = pd.DataFrame()\n",
    "    lin_reg2 = LinearRegression()\n",
    "    lin_reg2.fit(train_copy2_tr, train_labels)  \n",
    "    for i in range(len(test_copy_tr.index)):\n",
    "        \n",
    "        #new_list = [[test_copy_tr['PTTh'].iloc[i], test_copy_tr['PTTm'].iloc[i], test_copy_tr['PTT'].iloc[i], test_copy_tr['HR'].iloc[i]]] \n",
    "        #new_list = [[test_copy_tr['PTTh'].iloc[i].round(round_digits), test_copy_tr['PTTm'].iloc[i].round(round_digits), test_copy_tr['PTT'].iloc[i].round(round_digits), test_copy_tr['HR'].iloc[i].round(round_digits)]] \n",
    "        new_list = np.array(test_copy_tr.iloc[i])\n",
    "        #Pred = test_pred(new_list)\n",
    "        Pred = test_pred2(new_list)\n",
    "        \n",
    "        Subset_DF = pd.DataFrame({'Pred':[Pred.round(round_digits)]})\n",
    "        C_Outputs = C_Outputs.append(Subset_DF, ignore_index=True)\n",
    "        \n",
    "        Pred2 = lin_reg2.predict([new_list])\n",
    "        Subset_DF2 = pd.DataFrame({'Pred':[Pred2[0].round(round_digits)]})\n",
    "        Train_Predictions = Train_Predictions.append(Subset_DF2, ignore_index=True)\n",
    "        \n",
    "    #lin_reg = joblib.load('C:/1_Work/FANOS_lab/KA/KA/temp_downloads/results/Finalizing Results/SBP/SBP_Model_LR.pkl')\n",
    "    lin_reg = lin_reg2 ############################## NOW USING THE EXACT SAME MODEL!!!  \n",
    "    Test_Predictions = lin_reg.predict(test_copy_tr.values.round(round_digits))\n",
    "    #Train_Predictions = lin_reg2.predict(test_copy_tr)\n",
    "\n",
    "    \n",
    "    # Errors, ME, MAE, std Calculations:\n",
    "    Train_Error = test_labels.values.round(round_digits) - Train_Predictions['Pred'].values.round(round_digits)\n",
    "    Test_Error = test_labels.values.round(round_digits) - Test_Predictions.round(round_digits)\n",
    "    Calc_Error = test_labels.values.round(round_digits) - C_Outputs['Pred'].values.round(round_digits)\n",
    "    \n",
    "    Train_ME = np.mean(Train_Error)\n",
    "    Test_ME = np.mean(Test_Error)\n",
    "    Calc_ME = np.mean(Calc_Error)\n",
    "    \n",
    "    Train_std = np.std(Train_Error)\n",
    "    Test_std = np.std(Test_Error)\n",
    "    Calc_std = np.std(Calc_Error) \n",
    "    \n",
    "    Test_MAE = np.mean(abs(Test_Error))\n",
    "    Train_MAE = np.mean(abs(Train_Error))\n",
    "    Calc_MAE = np.mean(abs(Calc_Error))\n",
    "    \n",
    "    \n",
    "    print('Results for ' + Reg_Model + 'Comparing Test(saved model), Train(train on spot), Calc(use eqn)' + '\\n')\n",
    "    print('Test ME: ' + str(Test_ME) + ' , Train ME: ' + str(Train_ME) + ' , Calc ME: ' + str(Calc_ME) +'\\n')\n",
    "    print('Test Std: ' + str(Test_std) + ' , Train Std: ' + str(Train_std) + ' , Calc Std: ' + str(Calc_std) + '\\n')\n",
    "    print('Test MAE: ' + str(Test_MAE) + ', Train MAE: ' + str(Train_MAE) +', Calc MAE: ' + str(Calc_MAE) + '\\n')\n",
    "    print('=========================================' + '\\n')\n",
    "    \n",
    "    \n",
    "    \n",
    "    # Plot & Save CDF of Error\n",
    "    fig, ax = plt.subplots(figsize=(12, 8));\n",
    "    ax.hist(abs(Test_Error), 500, density=1, histtype='step', cumulative=True, label='Empirical');\n",
    "    plt.grid(b=True, which='major', color='gray', alpha=0.6, linestyle='dashdot', lw=1.5)\n",
    "    #minor grid lines\n",
    "    plt.minorticks_on()\n",
    "    plt.xlabel('Error (mmHg)')\n",
    "    plt.ylabel('Imperical CDF')\n",
    "    plt.title('CDF of %s Estimation Error Using %s' %(TARGET, Reg_Model))\n",
    "    plt.grid(b=True, which='minor', color='beige', alpha=0.8, ls='-', lw=1)\n",
    "    #plt.savefig(CDF_file, format='svg', dpi=1200)\n",
    "    plt.show()\n",
    "    \n",
    "    fig, ax = plt.subplots(figsize=(12, 8));\n",
    "    ax.hist(abs(Train_Error), 500, density=1, histtype='step', cumulative=True, label='Empirical');\n",
    "    plt.grid(b=True, which='major', color='gray', alpha=0.6, linestyle='dashdot', lw=1.5)\n",
    "    #minor grid lines\n",
    "    plt.minorticks_on()\n",
    "    plt.xlabel('Error (mmHg)')\n",
    "    plt.ylabel('Imperical CDF')\n",
    "    plt.title('CDF of %s Estimation Error Using %s' %(TARGET, Reg_Model))\n",
    "    plt.grid(b=True, which='minor', color='beige', alpha=0.8, ls='-', lw=1)\n",
    "    plt.show()\n",
    "    \n",
    "    fig, ax = plt.subplots(figsize=(12, 8));\n",
    "    ax.hist(abs(Calc_Error), 500, density=1, histtype='step', cumulative=True, label='Empirical');\n",
    "    plt.grid(b=True, which='major', color='gray', alpha=0.6, linestyle='dashdot', lw=1.5)\n",
    "    #minor grid lines\n",
    "    plt.minorticks_on()\n",
    "    plt.xlabel('Error (mmHg)')\n",
    "    plt.ylabel('Imperical CDF')\n",
    "    plt.title('CDF of %s Estimation Error Using %s' %(TARGET, Reg_Model))\n",
    "    plt.grid(b=True, which='minor', color='beige', alpha=0.8, ls='-', lw=1)"
   ]
  },
  {
   "cell_type": "code",
   "execution_count": 54,
   "metadata": {},
   "outputs": [
    {
     "data": {
      "text/plain": [
       "10543"
      ]
     },
     "execution_count": 54,
     "metadata": {},
     "output_type": "execute_result"
    }
   ],
   "source": [
    "C_Outputs.size"
   ]
  },
  {
   "cell_type": "code",
   "execution_count": 144,
   "metadata": {},
   "outputs": [
    {
     "data": {
      "text/plain": [
       "4.702140431320385"
      ]
     },
     "execution_count": 144,
     "metadata": {},
     "output_type": "execute_result"
    }
   ],
   "source": [
    "np.std(Test_Predictions)"
   ]
  },
  {
   "cell_type": "code",
   "execution_count": 9,
   "metadata": {},
   "outputs": [],
   "source": [
    "x=joblib.load('C:/1_Work/FANOS_lab/KA/KA/temp_downloads/results/Finalizing Results/SBP/SBP_Model_LR.pkl')\n"
   ]
  },
  {
   "cell_type": "code",
   "execution_count": 51,
   "metadata": {},
   "outputs": [
    {
     "data": {
      "text/plain": [
       "array([ 5.56047664, -0.83717347, -0.48828559, -0.22598764])"
      ]
     },
     "execution_count": 51,
     "metadata": {},
     "output_type": "execute_result"
    }
   ],
   "source": [
    "lin_reg.coef_"
   ]
  },
  {
   "cell_type": "code",
   "execution_count": 52,
   "metadata": {},
   "outputs": [
    {
     "data": {
      "text/plain": [
       "array([ 5.56047664, -0.83717347, -0.48828559, -0.22598764])"
      ]
     },
     "execution_count": 52,
     "metadata": {},
     "output_type": "execute_result"
    }
   ],
   "source": [
    "lin_reg2.coef_"
   ]
  },
  {
   "cell_type": "code",
   "execution_count": 121,
   "metadata": {},
   "outputs": [
    {
     "data": {
      "text/plain": [
       "PTTh      1.889763\n",
       "PTTm      0.455385\n",
       "PTT       0.038857\n",
       "HR      101.024056\n",
       "Name: 261136, dtype: float64"
      ]
     },
     "execution_count": 121,
     "metadata": {},
     "output_type": "execute_result"
    }
   ],
   "source": [
    "test_copy_tr.iloc[0]"
   ]
  },
  {
   "cell_type": "code",
   "execution_count": 124,
   "metadata": {},
   "outputs": [
    {
     "data": {
      "text/plain": [
       "array([142.68153846, 126.50071429, 103.80666667, ...,  84.9736    ,\n",
       "       104.95181818,  89.21476923])"
      ]
     },
     "execution_count": 124,
     "metadata": {},
     "output_type": "execute_result"
    }
   ],
   "source": [
    "test_labels.values"
   ]
  },
  {
   "cell_type": "code",
   "execution_count": 136,
   "metadata": {},
   "outputs": [
    {
     "data": {
      "text/html": [
       "<div>\n",
       "<style scoped>\n",
       "    .dataframe tbody tr th:only-of-type {\n",
       "        vertical-align: middle;\n",
       "    }\n",
       "\n",
       "    .dataframe tbody tr th {\n",
       "        vertical-align: top;\n",
       "    }\n",
       "\n",
       "    .dataframe thead th {\n",
       "        text-align: right;\n",
       "    }\n",
       "</style>\n",
       "<table border=\"1\" class=\"dataframe\">\n",
       "  <thead>\n",
       "    <tr style=\"text-align: right;\">\n",
       "      <th></th>\n",
       "      <th>Train_Predictions</th>\n",
       "      <th>Test_Predictions</th>\n",
       "      <th>Test_labels</th>\n",
       "      <th>Train_Error</th>\n",
       "      <th>Test_Error</th>\n",
       "    </tr>\n",
       "  </thead>\n",
       "  <tbody>\n",
       "    <tr>\n",
       "      <th>0</th>\n",
       "      <td>132.037</td>\n",
       "      <td>132.038764</td>\n",
       "      <td>142.681538</td>\n",
       "      <td>10.644538</td>\n",
       "      <td>10.642775</td>\n",
       "    </tr>\n",
       "    <tr>\n",
       "      <th>1</th>\n",
       "      <td>129.701</td>\n",
       "      <td>129.701260</td>\n",
       "      <td>126.500714</td>\n",
       "      <td>-3.200286</td>\n",
       "      <td>-3.200546</td>\n",
       "    </tr>\n",
       "    <tr>\n",
       "      <th>2</th>\n",
       "      <td>133.987</td>\n",
       "      <td>133.988130</td>\n",
       "      <td>103.806667</td>\n",
       "      <td>-30.180333</td>\n",
       "      <td>-30.181464</td>\n",
       "    </tr>\n",
       "    <tr>\n",
       "      <th>3</th>\n",
       "      <td>128.065</td>\n",
       "      <td>128.065471</td>\n",
       "      <td>97.229067</td>\n",
       "      <td>-30.835933</td>\n",
       "      <td>-30.836404</td>\n",
       "    </tr>\n",
       "    <tr>\n",
       "      <th>4</th>\n",
       "      <td>131.156</td>\n",
       "      <td>131.157176</td>\n",
       "      <td>94.126308</td>\n",
       "      <td>-37.029692</td>\n",
       "      <td>-37.030868</td>\n",
       "    </tr>\n",
       "    <tr>\n",
       "      <th>5</th>\n",
       "      <td>134.219</td>\n",
       "      <td>134.219225</td>\n",
       "      <td>115.516615</td>\n",
       "      <td>-18.702385</td>\n",
       "      <td>-18.702609</td>\n",
       "    </tr>\n",
       "    <tr>\n",
       "      <th>6</th>\n",
       "      <td>136.002</td>\n",
       "      <td>136.000220</td>\n",
       "      <td>125.641000</td>\n",
       "      <td>-10.361000</td>\n",
       "      <td>-10.359220</td>\n",
       "    </tr>\n",
       "    <tr>\n",
       "      <th>7</th>\n",
       "      <td>128.621</td>\n",
       "      <td>128.623549</td>\n",
       "      <td>145.818182</td>\n",
       "      <td>17.197182</td>\n",
       "      <td>17.194633</td>\n",
       "    </tr>\n",
       "    <tr>\n",
       "      <th>8</th>\n",
       "      <td>133.429</td>\n",
       "      <td>133.429304</td>\n",
       "      <td>136.900833</td>\n",
       "      <td>3.471833</td>\n",
       "      <td>3.471529</td>\n",
       "    </tr>\n",
       "    <tr>\n",
       "      <th>9</th>\n",
       "      <td>123.535</td>\n",
       "      <td>123.536778</td>\n",
       "      <td>116.948571</td>\n",
       "      <td>-6.586429</td>\n",
       "      <td>-6.588206</td>\n",
       "    </tr>\n",
       "    <tr>\n",
       "      <th>10</th>\n",
       "      <td>135.161</td>\n",
       "      <td>135.158568</td>\n",
       "      <td>110.276364</td>\n",
       "      <td>-24.884636</td>\n",
       "      <td>-24.882204</td>\n",
       "    </tr>\n",
       "    <tr>\n",
       "      <th>11</th>\n",
       "      <td>131.731</td>\n",
       "      <td>131.733910</td>\n",
       "      <td>133.950769</td>\n",
       "      <td>2.219769</td>\n",
       "      <td>2.216859</td>\n",
       "    </tr>\n",
       "    <tr>\n",
       "      <th>12</th>\n",
       "      <td>117.192</td>\n",
       "      <td>117.193369</td>\n",
       "      <td>130.497714</td>\n",
       "      <td>13.305714</td>\n",
       "      <td>13.304345</td>\n",
       "    </tr>\n",
       "    <tr>\n",
       "      <th>13</th>\n",
       "      <td>131.442</td>\n",
       "      <td>131.443370</td>\n",
       "      <td>158.113077</td>\n",
       "      <td>26.671077</td>\n",
       "      <td>26.669706</td>\n",
       "    </tr>\n",
       "    <tr>\n",
       "      <th>14</th>\n",
       "      <td>132.442</td>\n",
       "      <td>132.441620</td>\n",
       "      <td>133.839231</td>\n",
       "      <td>1.397231</td>\n",
       "      <td>1.397611</td>\n",
       "    </tr>\n",
       "    <tr>\n",
       "      <th>15</th>\n",
       "      <td>136.853</td>\n",
       "      <td>136.854352</td>\n",
       "      <td>109.891000</td>\n",
       "      <td>-26.962000</td>\n",
       "      <td>-26.963352</td>\n",
       "    </tr>\n",
       "    <tr>\n",
       "      <th>16</th>\n",
       "      <td>125.180</td>\n",
       "      <td>125.182527</td>\n",
       "      <td>155.426667</td>\n",
       "      <td>30.246667</td>\n",
       "      <td>30.244140</td>\n",
       "    </tr>\n",
       "    <tr>\n",
       "      <th>17</th>\n",
       "      <td>128.562</td>\n",
       "      <td>128.564247</td>\n",
       "      <td>132.642727</td>\n",
       "      <td>4.080727</td>\n",
       "      <td>4.078481</td>\n",
       "    </tr>\n",
       "    <tr>\n",
       "      <th>18</th>\n",
       "      <td>138.385</td>\n",
       "      <td>138.386930</td>\n",
       "      <td>179.065000</td>\n",
       "      <td>40.680000</td>\n",
       "      <td>40.678070</td>\n",
       "    </tr>\n",
       "    <tr>\n",
       "      <th>19</th>\n",
       "      <td>131.812</td>\n",
       "      <td>131.814590</td>\n",
       "      <td>123.965385</td>\n",
       "      <td>-7.846615</td>\n",
       "      <td>-7.849205</td>\n",
       "    </tr>\n",
       "    <tr>\n",
       "      <th>20</th>\n",
       "      <td>135.968</td>\n",
       "      <td>135.966711</td>\n",
       "      <td>127.462333</td>\n",
       "      <td>-8.505667</td>\n",
       "      <td>-8.504377</td>\n",
       "    </tr>\n",
       "    <tr>\n",
       "      <th>21</th>\n",
       "      <td>131.969</td>\n",
       "      <td>131.971384</td>\n",
       "      <td>126.584615</td>\n",
       "      <td>-5.384385</td>\n",
       "      <td>-5.386769</td>\n",
       "    </tr>\n",
       "    <tr>\n",
       "      <th>22</th>\n",
       "      <td>131.819</td>\n",
       "      <td>131.821310</td>\n",
       "      <td>138.974167</td>\n",
       "      <td>7.155167</td>\n",
       "      <td>7.152857</td>\n",
       "    </tr>\n",
       "    <tr>\n",
       "      <th>23</th>\n",
       "      <td>136.993</td>\n",
       "      <td>136.993165</td>\n",
       "      <td>123.901111</td>\n",
       "      <td>-13.091889</td>\n",
       "      <td>-13.092054</td>\n",
       "    </tr>\n",
       "    <tr>\n",
       "      <th>24</th>\n",
       "      <td>121.343</td>\n",
       "      <td>121.342787</td>\n",
       "      <td>99.608600</td>\n",
       "      <td>-21.734400</td>\n",
       "      <td>-21.734187</td>\n",
       "    </tr>\n",
       "    <tr>\n",
       "      <th>25</th>\n",
       "      <td>133.156</td>\n",
       "      <td>133.156780</td>\n",
       "      <td>122.248000</td>\n",
       "      <td>-10.908000</td>\n",
       "      <td>-10.908780</td>\n",
       "    </tr>\n",
       "    <tr>\n",
       "      <th>26</th>\n",
       "      <td>127.674</td>\n",
       "      <td>127.672194</td>\n",
       "      <td>149.711333</td>\n",
       "      <td>22.037333</td>\n",
       "      <td>22.039139</td>\n",
       "    </tr>\n",
       "    <tr>\n",
       "      <th>27</th>\n",
       "      <td>132.545</td>\n",
       "      <td>132.546129</td>\n",
       "      <td>162.096154</td>\n",
       "      <td>29.551154</td>\n",
       "      <td>29.550025</td>\n",
       "    </tr>\n",
       "    <tr>\n",
       "      <th>28</th>\n",
       "      <td>132.643</td>\n",
       "      <td>132.642992</td>\n",
       "      <td>146.185385</td>\n",
       "      <td>13.542385</td>\n",
       "      <td>13.542392</td>\n",
       "    </tr>\n",
       "    <tr>\n",
       "      <th>29</th>\n",
       "      <td>126.964</td>\n",
       "      <td>126.962660</td>\n",
       "      <td>100.705750</td>\n",
       "      <td>-26.258250</td>\n",
       "      <td>-26.256910</td>\n",
       "    </tr>\n",
       "    <tr>\n",
       "      <th>...</th>\n",
       "      <td>...</td>\n",
       "      <td>...</td>\n",
       "      <td>...</td>\n",
       "      <td>...</td>\n",
       "      <td>...</td>\n",
       "    </tr>\n",
       "    <tr>\n",
       "      <th>10513</th>\n",
       "      <td>128.872</td>\n",
       "      <td>128.870856</td>\n",
       "      <td>152.645385</td>\n",
       "      <td>23.773385</td>\n",
       "      <td>23.774529</td>\n",
       "    </tr>\n",
       "    <tr>\n",
       "      <th>10514</th>\n",
       "      <td>125.751</td>\n",
       "      <td>125.750711</td>\n",
       "      <td>97.874667</td>\n",
       "      <td>-27.876333</td>\n",
       "      <td>-27.876044</td>\n",
       "    </tr>\n",
       "    <tr>\n",
       "      <th>10515</th>\n",
       "      <td>127.018</td>\n",
       "      <td>127.018822</td>\n",
       "      <td>94.952800</td>\n",
       "      <td>-32.065200</td>\n",
       "      <td>-32.066022</td>\n",
       "    </tr>\n",
       "    <tr>\n",
       "      <th>10516</th>\n",
       "      <td>120.463</td>\n",
       "      <td>120.461033</td>\n",
       "      <td>86.733812</td>\n",
       "      <td>-33.729187</td>\n",
       "      <td>-33.727221</td>\n",
       "    </tr>\n",
       "    <tr>\n",
       "      <th>10517</th>\n",
       "      <td>133.356</td>\n",
       "      <td>133.357267</td>\n",
       "      <td>171.450000</td>\n",
       "      <td>38.094000</td>\n",
       "      <td>38.092733</td>\n",
       "    </tr>\n",
       "    <tr>\n",
       "      <th>10518</th>\n",
       "      <td>126.706</td>\n",
       "      <td>126.706257</td>\n",
       "      <td>118.019167</td>\n",
       "      <td>-8.686833</td>\n",
       "      <td>-8.687091</td>\n",
       "    </tr>\n",
       "    <tr>\n",
       "      <th>10519</th>\n",
       "      <td>116.726</td>\n",
       "      <td>116.726756</td>\n",
       "      <td>130.066667</td>\n",
       "      <td>13.340667</td>\n",
       "      <td>13.339911</td>\n",
       "    </tr>\n",
       "    <tr>\n",
       "      <th>10520</th>\n",
       "      <td>135.325</td>\n",
       "      <td>135.323536</td>\n",
       "      <td>92.004800</td>\n",
       "      <td>-43.320200</td>\n",
       "      <td>-43.318736</td>\n",
       "    </tr>\n",
       "    <tr>\n",
       "      <th>10521</th>\n",
       "      <td>131.006</td>\n",
       "      <td>131.006524</td>\n",
       "      <td>161.306923</td>\n",
       "      <td>30.300923</td>\n",
       "      <td>30.300399</td>\n",
       "    </tr>\n",
       "    <tr>\n",
       "      <th>10522</th>\n",
       "      <td>126.725</td>\n",
       "      <td>126.723896</td>\n",
       "      <td>110.315833</td>\n",
       "      <td>-16.409167</td>\n",
       "      <td>-16.408063</td>\n",
       "    </tr>\n",
       "    <tr>\n",
       "      <th>10523</th>\n",
       "      <td>129.771</td>\n",
       "      <td>129.769897</td>\n",
       "      <td>154.108000</td>\n",
       "      <td>24.337000</td>\n",
       "      <td>24.338103</td>\n",
       "    </tr>\n",
       "    <tr>\n",
       "      <th>10524</th>\n",
       "      <td>132.032</td>\n",
       "      <td>132.029896</td>\n",
       "      <td>148.020000</td>\n",
       "      <td>15.988000</td>\n",
       "      <td>15.990104</td>\n",
       "    </tr>\n",
       "    <tr>\n",
       "      <th>10525</th>\n",
       "      <td>136.451</td>\n",
       "      <td>136.451605</td>\n",
       "      <td>136.984000</td>\n",
       "      <td>0.533000</td>\n",
       "      <td>0.532395</td>\n",
       "    </tr>\n",
       "    <tr>\n",
       "      <th>10526</th>\n",
       "      <td>126.586</td>\n",
       "      <td>126.583850</td>\n",
       "      <td>122.519375</td>\n",
       "      <td>-4.066625</td>\n",
       "      <td>-4.064475</td>\n",
       "    </tr>\n",
       "    <tr>\n",
       "      <th>10527</th>\n",
       "      <td>122.308</td>\n",
       "      <td>122.305390</td>\n",
       "      <td>95.757643</td>\n",
       "      <td>-26.550357</td>\n",
       "      <td>-26.547747</td>\n",
       "    </tr>\n",
       "    <tr>\n",
       "      <th>10528</th>\n",
       "      <td>136.186</td>\n",
       "      <td>136.184063</td>\n",
       "      <td>132.086667</td>\n",
       "      <td>-4.099333</td>\n",
       "      <td>-4.097396</td>\n",
       "    </tr>\n",
       "    <tr>\n",
       "      <th>10529</th>\n",
       "      <td>129.619</td>\n",
       "      <td>129.620312</td>\n",
       "      <td>133.440714</td>\n",
       "      <td>3.821714</td>\n",
       "      <td>3.820402</td>\n",
       "    </tr>\n",
       "    <tr>\n",
       "      <th>10530</th>\n",
       "      <td>124.447</td>\n",
       "      <td>124.444363</td>\n",
       "      <td>133.833125</td>\n",
       "      <td>9.386125</td>\n",
       "      <td>9.388762</td>\n",
       "    </tr>\n",
       "    <tr>\n",
       "      <th>10531</th>\n",
       "      <td>125.874</td>\n",
       "      <td>125.875367</td>\n",
       "      <td>106.759933</td>\n",
       "      <td>-19.114067</td>\n",
       "      <td>-19.115434</td>\n",
       "    </tr>\n",
       "    <tr>\n",
       "      <th>10532</th>\n",
       "      <td>134.508</td>\n",
       "      <td>134.506418</td>\n",
       "      <td>123.895364</td>\n",
       "      <td>-10.612636</td>\n",
       "      <td>-10.611054</td>\n",
       "    </tr>\n",
       "    <tr>\n",
       "      <th>10533</th>\n",
       "      <td>130.868</td>\n",
       "      <td>130.865802</td>\n",
       "      <td>148.610769</td>\n",
       "      <td>17.742769</td>\n",
       "      <td>17.744967</td>\n",
       "    </tr>\n",
       "    <tr>\n",
       "      <th>10534</th>\n",
       "      <td>129.087</td>\n",
       "      <td>129.087468</td>\n",
       "      <td>113.977857</td>\n",
       "      <td>-15.109143</td>\n",
       "      <td>-15.109611</td>\n",
       "    </tr>\n",
       "    <tr>\n",
       "      <th>10535</th>\n",
       "      <td>133.890</td>\n",
       "      <td>133.887845</td>\n",
       "      <td>105.458333</td>\n",
       "      <td>-28.431667</td>\n",
       "      <td>-28.429512</td>\n",
       "    </tr>\n",
       "    <tr>\n",
       "      <th>10536</th>\n",
       "      <td>134.068</td>\n",
       "      <td>134.068386</td>\n",
       "      <td>153.570909</td>\n",
       "      <td>19.502909</td>\n",
       "      <td>19.502523</td>\n",
       "    </tr>\n",
       "    <tr>\n",
       "      <th>10537</th>\n",
       "      <td>130.734</td>\n",
       "      <td>130.734311</td>\n",
       "      <td>94.519923</td>\n",
       "      <td>-36.214077</td>\n",
       "      <td>-36.214387</td>\n",
       "    </tr>\n",
       "    <tr>\n",
       "      <th>10538</th>\n",
       "      <td>131.574</td>\n",
       "      <td>131.573806</td>\n",
       "      <td>115.814615</td>\n",
       "      <td>-15.759385</td>\n",
       "      <td>-15.759191</td>\n",
       "    </tr>\n",
       "    <tr>\n",
       "      <th>10539</th>\n",
       "      <td>124.865</td>\n",
       "      <td>124.862275</td>\n",
       "      <td>99.656545</td>\n",
       "      <td>-25.208455</td>\n",
       "      <td>-25.205729</td>\n",
       "    </tr>\n",
       "    <tr>\n",
       "      <th>10540</th>\n",
       "      <td>116.028</td>\n",
       "      <td>116.030006</td>\n",
       "      <td>84.973600</td>\n",
       "      <td>-31.054400</td>\n",
       "      <td>-31.056406</td>\n",
       "    </tr>\n",
       "    <tr>\n",
       "      <th>10541</th>\n",
       "      <td>129.316</td>\n",
       "      <td>129.316689</td>\n",
       "      <td>104.951818</td>\n",
       "      <td>-24.364182</td>\n",
       "      <td>-24.364871</td>\n",
       "    </tr>\n",
       "    <tr>\n",
       "      <th>10542</th>\n",
       "      <td>125.041</td>\n",
       "      <td>125.040350</td>\n",
       "      <td>89.214769</td>\n",
       "      <td>-35.826231</td>\n",
       "      <td>-35.825581</td>\n",
       "    </tr>\n",
       "  </tbody>\n",
       "</table>\n",
       "<p>10543 rows × 5 columns</p>\n",
       "</div>"
      ],
      "text/plain": [
       "       Train_Predictions  Test_Predictions  Test_labels  Train_Error  \\\n",
       "0                132.037        132.038764   142.681538    10.644538   \n",
       "1                129.701        129.701260   126.500714    -3.200286   \n",
       "2                133.987        133.988130   103.806667   -30.180333   \n",
       "3                128.065        128.065471    97.229067   -30.835933   \n",
       "4                131.156        131.157176    94.126308   -37.029692   \n",
       "5                134.219        134.219225   115.516615   -18.702385   \n",
       "6                136.002        136.000220   125.641000   -10.361000   \n",
       "7                128.621        128.623549   145.818182    17.197182   \n",
       "8                133.429        133.429304   136.900833     3.471833   \n",
       "9                123.535        123.536778   116.948571    -6.586429   \n",
       "10               135.161        135.158568   110.276364   -24.884636   \n",
       "11               131.731        131.733910   133.950769     2.219769   \n",
       "12               117.192        117.193369   130.497714    13.305714   \n",
       "13               131.442        131.443370   158.113077    26.671077   \n",
       "14               132.442        132.441620   133.839231     1.397231   \n",
       "15               136.853        136.854352   109.891000   -26.962000   \n",
       "16               125.180        125.182527   155.426667    30.246667   \n",
       "17               128.562        128.564247   132.642727     4.080727   \n",
       "18               138.385        138.386930   179.065000    40.680000   \n",
       "19               131.812        131.814590   123.965385    -7.846615   \n",
       "20               135.968        135.966711   127.462333    -8.505667   \n",
       "21               131.969        131.971384   126.584615    -5.384385   \n",
       "22               131.819        131.821310   138.974167     7.155167   \n",
       "23               136.993        136.993165   123.901111   -13.091889   \n",
       "24               121.343        121.342787    99.608600   -21.734400   \n",
       "25               133.156        133.156780   122.248000   -10.908000   \n",
       "26               127.674        127.672194   149.711333    22.037333   \n",
       "27               132.545        132.546129   162.096154    29.551154   \n",
       "28               132.643        132.642992   146.185385    13.542385   \n",
       "29               126.964        126.962660   100.705750   -26.258250   \n",
       "...                  ...               ...          ...          ...   \n",
       "10513            128.872        128.870856   152.645385    23.773385   \n",
       "10514            125.751        125.750711    97.874667   -27.876333   \n",
       "10515            127.018        127.018822    94.952800   -32.065200   \n",
       "10516            120.463        120.461033    86.733812   -33.729187   \n",
       "10517            133.356        133.357267   171.450000    38.094000   \n",
       "10518            126.706        126.706257   118.019167    -8.686833   \n",
       "10519            116.726        116.726756   130.066667    13.340667   \n",
       "10520            135.325        135.323536    92.004800   -43.320200   \n",
       "10521            131.006        131.006524   161.306923    30.300923   \n",
       "10522            126.725        126.723896   110.315833   -16.409167   \n",
       "10523            129.771        129.769897   154.108000    24.337000   \n",
       "10524            132.032        132.029896   148.020000    15.988000   \n",
       "10525            136.451        136.451605   136.984000     0.533000   \n",
       "10526            126.586        126.583850   122.519375    -4.066625   \n",
       "10527            122.308        122.305390    95.757643   -26.550357   \n",
       "10528            136.186        136.184063   132.086667    -4.099333   \n",
       "10529            129.619        129.620312   133.440714     3.821714   \n",
       "10530            124.447        124.444363   133.833125     9.386125   \n",
       "10531            125.874        125.875367   106.759933   -19.114067   \n",
       "10532            134.508        134.506418   123.895364   -10.612636   \n",
       "10533            130.868        130.865802   148.610769    17.742769   \n",
       "10534            129.087        129.087468   113.977857   -15.109143   \n",
       "10535            133.890        133.887845   105.458333   -28.431667   \n",
       "10536            134.068        134.068386   153.570909    19.502909   \n",
       "10537            130.734        130.734311    94.519923   -36.214077   \n",
       "10538            131.574        131.573806   115.814615   -15.759385   \n",
       "10539            124.865        124.862275    99.656545   -25.208455   \n",
       "10540            116.028        116.030006    84.973600   -31.054400   \n",
       "10541            129.316        129.316689   104.951818   -24.364182   \n",
       "10542            125.041        125.040350    89.214769   -35.826231   \n",
       "\n",
       "       Test_Error  \n",
       "0       10.642775  \n",
       "1       -3.200546  \n",
       "2      -30.181464  \n",
       "3      -30.836404  \n",
       "4      -37.030868  \n",
       "5      -18.702609  \n",
       "6      -10.359220  \n",
       "7       17.194633  \n",
       "8        3.471529  \n",
       "9       -6.588206  \n",
       "10     -24.882204  \n",
       "11       2.216859  \n",
       "12      13.304345  \n",
       "13      26.669706  \n",
       "14       1.397611  \n",
       "15     -26.963352  \n",
       "16      30.244140  \n",
       "17       4.078481  \n",
       "18      40.678070  \n",
       "19      -7.849205  \n",
       "20      -8.504377  \n",
       "21      -5.386769  \n",
       "22       7.152857  \n",
       "23     -13.092054  \n",
       "24     -21.734187  \n",
       "25     -10.908780  \n",
       "26      22.039139  \n",
       "27      29.550025  \n",
       "28      13.542392  \n",
       "29     -26.256910  \n",
       "...           ...  \n",
       "10513   23.774529  \n",
       "10514  -27.876044  \n",
       "10515  -32.066022  \n",
       "10516  -33.727221  \n",
       "10517   38.092733  \n",
       "10518   -8.687091  \n",
       "10519   13.339911  \n",
       "10520  -43.318736  \n",
       "10521   30.300399  \n",
       "10522  -16.408063  \n",
       "10523   24.338103  \n",
       "10524   15.990104  \n",
       "10525    0.532395  \n",
       "10526   -4.064475  \n",
       "10527  -26.547747  \n",
       "10528   -4.097396  \n",
       "10529    3.820402  \n",
       "10530    9.388762  \n",
       "10531  -19.115434  \n",
       "10532  -10.611054  \n",
       "10533   17.744967  \n",
       "10534  -15.109611  \n",
       "10535  -28.429512  \n",
       "10536   19.502523  \n",
       "10537  -36.214387  \n",
       "10538  -15.759191  \n",
       "10539  -25.205729  \n",
       "10540  -31.056406  \n",
       "10541  -24.364871  \n",
       "10542  -35.825581  \n",
       "\n",
       "[10543 rows x 5 columns]"
      ]
     },
     "execution_count": 136,
     "metadata": {},
     "output_type": "execute_result"
    }
   ],
   "source": [
    "x = pd.DataFrame()\n",
    "x['Train_Predictions'] = Train_Predictions['Pred'].values\n",
    "x['Test_Predictions'] = Test_Predictions\n",
    "x['Test_labels'] = test_labels.values\n",
    "x['Train_Error'] = test_labels.values - Train_Predictions['Pred']\n",
    "x['Test_Error'] = test_labels.values - Test_Predictions\n",
    "x"
   ]
  },
  {
   "cell_type": "code",
   "execution_count": 70,
   "metadata": {},
   "outputs": [],
   "source": [
    "pred3 = lin_reg.predict([[0.4580118181818182,\n",
    "  0.5767272727272728,\n",
    "  0.17933333333333332,\n",
    "  96.00279280851808]])"
   ]
  },
  {
   "cell_type": "code",
   "execution_count": 76,
   "metadata": {},
   "outputs": [
    {
     "data": {
      "text/plain": [
       "125.04052786828034"
      ]
     },
     "execution_count": 76,
     "metadata": {},
     "output_type": "execute_result"
    }
   ],
   "source": [
    "float(pred3[0])"
   ]
  },
  {
   "cell_type": "code",
   "execution_count": 6,
   "metadata": {},
   "outputs": [
    {
     "name": "stdout",
     "output_type": "stream",
     "text": [
      "double score(double * input) {\n",
      "    return ((((144.7595952135736) + ((input[0]) * (5.560476637951604))) + ((input[1]) * (-0.8371734744260986))) + ((input[2]) * (-0.4882855887343618))) + ((input[3]) * (-0.22598764128164273));\n",
      "}\n",
      "\n"
     ]
    }
   ],
   "source": [
    "import m2cgen as m2c\n",
    "print(m2c.export_to_c(lin_reg))"
   ]
  },
  {
   "cell_type": "code",
   "execution_count": 49,
   "metadata": {},
   "outputs": [],
   "source": [
    "def test_pred(input):\n",
    "    return ((((144.7595952135736) + ((input[0][0]) * (5.560476637951604))) + ((input[0][1]) * (-0.8371734744260986))) + ((input[0][2]) * (-0.4882855887343618))) + ((input[0][3]) * (-0.22598764128164273))"
   ]
  },
  {
   "cell_type": "code",
   "execution_count": 117,
   "metadata": {},
   "outputs": [],
   "source": [
    "def test_pred2(input):\n",
    "    return ((((144.7595952135736) + ((input[0]) * (5.560476637951604))) + ((input[1]) * (-0.8371734744260986))) + ((input[2]) * (-0.4882855887343618))) + ((input[3]) * (-0.22598764128164273))"
   ]
  },
  {
   "cell_type": "code",
   "execution_count": 39,
   "metadata": {},
   "outputs": [
    {
     "name": "stdout",
     "output_type": "stream",
     "text": [
      "Same Result\n"
     ]
    }
   ],
   "source": [
    "out1 = (10000000000000000000*(10000000000000000000*lin_reg.predict([[1,1,1,1]]) - 10000000000000000000*test_pred([[1,1,1,1]])))\n",
    "if out1==0:\n",
    "    print(\"Same Result\")"
   ]
  },
  {
   "cell_type": "code",
   "execution_count": 15,
   "metadata": {},
   "outputs": [
    {
     "data": {
      "text/plain": [
       "261136     97.009515\n",
       "85333     100.962043\n",
       "278229     76.319866\n",
       "208762     78.480038\n",
       "221465     78.192719\n",
       "115903     81.376381\n",
       "328025     90.438284\n",
       "164730     94.794978\n",
       "147364    101.401436\n",
       "4272       83.745138\n",
       "107515     77.924880\n",
       "230525     85.246529\n",
       "257071     93.385604\n",
       "146325    108.353194\n",
       "117372     89.960175\n",
       "173586     77.047001\n",
       "255287    106.061043\n",
       "76119     118.144698\n",
       "124793    121.383264\n",
       "239425     86.419068\n",
       "85245      81.561029\n",
       "239918     84.276224\n",
       "319245     96.645198\n",
       "24188      83.320800\n",
       "82162      87.676824\n",
       "213276     84.144476\n",
       "190268     96.970434\n",
       "197328    104.162793\n",
       "115473     99.321938\n",
       "81257      85.373035\n",
       "             ...    \n",
       "152640    105.301828\n",
       "81852      85.883759\n",
       "304140     74.286434\n",
       "83344      76.163839\n",
       "114839    116.228614\n",
       "139740     80.856789\n",
       "200177     81.526068\n",
       "213551     82.410366\n",
       "119784    108.300638\n",
       "80289      74.234382\n",
       "216358     88.640118\n",
       "228289     93.433659\n",
       "149756     95.425302\n",
       "39483      95.821532\n",
       "32657      76.949380\n",
       "131076     90.303142\n",
       "189852     85.667481\n",
       "298939    104.064604\n",
       "304110     85.707544\n",
       "289046     84.536296\n",
       "91349      88.007459\n",
       "34687      93.122604\n",
       "209954     83.773573\n",
       "255905     93.466361\n",
       "40864      80.828151\n",
       "227610     84.932597\n",
       "248459     88.547078\n",
       "68297      70.263982\n",
       "90810      81.613141\n",
       "83158      75.726415\n",
       "Name: MAP, Length: 10543, dtype: float64"
      ]
     },
     "execution_count": 15,
     "metadata": {},
     "output_type": "execute_result"
    }
   ],
   "source": [
    "test_labels"
   ]
  },
  {
   "cell_type": "code",
   "execution_count": 16,
   "metadata": {},
   "outputs": [
    {
     "name": "stdout",
     "output_type": "stream",
     "text": [
      "9.657400999030935\n"
     ]
    }
   ],
   "source": [
    "\n",
    "\n",
    "MAP_predicted = ((((90.99430232384626) + ((test_copy_tr['PTTh']) * (1.3225782934193493))) + ((test_copy_tr['PTTm']) * (-1.636202923220917))) + ((test_copy_tr['PTT']) * (5.547629507294542))) + ((test_copy_tr['HR']) * (-0.005001368935667383))\n",
    "\n",
    "print(np.mean(abs(MAP_predicted - test_labels)))"
   ]
  },
  {
   "cell_type": "code",
   "execution_count": null,
   "metadata": {},
   "outputs": [],
   "source": [
    "def recvFromArduino():\n",
    "  global startMarker, endMarker\n",
    "  \n",
    "  ck = \"\"\n",
    "  x = \"z\" # any value that is not an end- or startMarker\n",
    "  byteCount = -1 # to allow for the fact that the last increment will be one too many\n",
    "  \n",
    "  # wait for the start character\n",
    "  while  ord(x) != startMarker: \n",
    "    x = ser.read()\n",
    "  \n",
    "  # save data until the end marker is found\n",
    "  while ord(x) != endMarker:\n",
    "    if ord(x) != startMarker:\n",
    "      ck = ck + x.decode('utf-8')\n",
    "      byteCount += 1\n",
    "    x = ser.read()\n",
    "  \n",
    "  \n",
    "  return(ck) \n",
    "\n",
    "###########################################################\n",
    "\n",
    "str_from_MCU = recvFromArduino()\n",
    "      chunks = str_from_MCU.split(',')\n",
    "      P_SBP = float(chunks[0])\n",
    "      P_DBP = float(chunks[1])\n",
    "      infTime = int(chunks[2]) \n",
    "      \n",
    "      Subset_DF = pd.DataFrame({'Pred_SBP':[P_SBP],'Pred_DBP':[P_DBP],'Inf_Time':[infTime]})\n",
    "      MCU_pred = MCU_pred.append(Subset_DF, ignore_index=True)\n",
    "    \n",
    "#############################################################\n",
    "allData =  pd.read_csv('UPDATED_Extracted_Instants_Parameters.csv')\n",
    "cols = ['PTT','HR','SBP','DBP']\n",
    "Total_length = len(allData.index)\n",
    "\n",
    "\n",
    "#testData = allData.loc[8*Total_length//10:,cols] # This shall consider all test points\n",
    "testData = allData.loc[8*Total_length//10:(8*Total_length//10)+Num_Test_Points,cols] #################### index !!!\n",
    "\n",
    "PackedDataList = [] # THAT IS A LIST APPARENTLY!\n",
    "for i in range(len(testData.index)):\n",
    "    new_str = '<' + str(testData['PTT'].iloc[i]) + ',' + str(testData['HR'].iloc[i]) + '>'\n",
    "    PackedDataList.append(new_str) \n",
    "\n",
    "\n",
    "Predictions_df = runTest(PackedDataList)  "
   ]
  },
  {
   "cell_type": "code",
   "execution_count": 72,
   "metadata": {},
   "outputs": [
    {
     "data": {
      "image/png": "[encoded data removed]",
      "text/plain": [
       "<Figure size 720x576 with 1 Axes>"
      ]
     },
     "metadata": {
      "needs_background": "light"
     },
     "output_type": "display_data"
    }
   ],
   "source": [
    "#    3) Random Forest: Better than tree reg, as it is built over multiple averaged TR's\n",
    "from sklearn.ensemble import RandomForestRegressor\n",
    "\n",
    "N_estimator_vec = [2, 4, 8, 16, 32, 64]\n",
    "MAE_FR_vec = [0]*len(N_estimator_vec)\n",
    "\n",
    "for Nes in range(len(N_estimator_vec)):\n",
    "    forest_reg = RandomForestRegressor(n_estimators=N_estimator_vec[Nes], max_leaf_nodes=256, min_samples_leaf=50) #msl = 100 .. 50 is better\n",
    "    forest_reg.fit(train_copy2_tr, train_labels)\n",
    "    FR_Predictions = forest_reg.predict(test_copy_tr)\n",
    "    MAE_FR_vec[Nes] = np.mean(abs(test_labels - FR_Predictions))\n",
    "#print(\"Random Forest Regression RMSE: \",FR_rmse, \" & MAE: \",FR_MAE)\n",
    "plt.rcParams[\"figure.figsize\"]=10,8\n",
    "plt.xlabel('log2 Number of Estimators')\n",
    "plt.ylabel('MAE for SBP [mmHg], Random Forest w Opt DTs')\n",
    "plt.plot(np.log2(N_estimator_vec), MAE_FR_vec,'-o')\n",
    "plt.show()"
   ]
  },
  {
   "cell_type": "markdown",
   "metadata": {},
   "source": [
    "## Ensample learning: "
   ]
  },
  {
   "cell_type": "code",
   "execution_count": null,
   "metadata": {},
   "outputs": [],
   "source": [
    "# Ensample learning: \n",
    "\n",
    "# Voting (diverse over techniqes) SHOULD I TRY IT OVER THE ALGORITHM I AM ALREADY USING? \n",
    "from sklearn.ensemble import RandomForestClassifier\n",
    "from sklearn.ensemble import VotingClassifier\n",
    "from sklearn.linear_model import LogisticRegression\n",
    "from sklearn.svm import SVC\n",
    "log_clf = LogisticRegression()\n",
    "rnd_clf = RandomForestClassifier()\n",
    "svm_clf = SVC()\n",
    "voting_clf = VotingClassifier(\n",
    "        estimators=[('lr', log_clf), ('rf', rnd_clf), ('svc', svm_clf)],\n",
    "        voting='hard'\n",
    "    )\n",
    "voting_clf.fit(X_train, y_train)\n",
    "\n",
    "\n",
    "# Bagging & Pasting (diverse over training data)\n",
    "from sklearn.ensemble import BaggingClassifier\n",
    "from sklearn.tree import DecisionTreeClassifier\n",
    "bag_clf = BaggingClassifier(\n",
    "        DecisionTreeClassifier(), n_estimators=500,\n",
    "        max_samples=100, bootstrap=True, n_jobs=-1\n",
    "    )\n",
    "bag_clf.fit(X_train, y_train)\n",
    "y_pred = bag_clf.predict(X_test)"
   ]
  },
  {
   "cell_type": "markdown",
   "metadata": {},
   "source": [
    "### 3.1 Shuffle & Split data between Train & Test"
   ]
  },
  {
   "cell_type": "code",
   "execution_count": 5,
   "metadata": {},
   "outputs": [
    {
     "data": {
      "image/png": "[encoded data removed]",
      "text/plain": [
       "<Figure size 720x576 with 1 Axes>"
      ]
     },
     "metadata": {
      "needs_background": "light"
     },
     "output_type": "display_data"
    }
   ],
   "source": [
    "import matplotlib.pyplot as plt\n",
    "plt.rcParams[\"figure.figsize\"]=10,8\n",
    "Data_intervals_minutes = All_Instants_Data['SBP']\n",
    "Data_intervals_minutes.plot(kind='hist', bins=500)\n",
    "plt.xlabel(\"Blood Pressure [mmHg]\");\n",
    "plt.title(\"Distribution of The SBP Values\");"
   ]
  },
  {
   "cell_type": "code",
   "execution_count": 116,
   "metadata": {},
   "outputs": [
    {
     "data": {
      "text/plain": [
       "<AxesSubplot:ylabel='Frequency'>"
      ]
     },
     "execution_count": 116,
     "metadata": {},
     "output_type": "execute_result"
    },
    {
     "data": {
      "image/png": "[encoded data removed]",
      "text/plain": [
       "<Figure size 720x576 with 1 Axes>"
      ]
     },
     "metadata": {
      "needs_background": "light"
     },
     "output_type": "display_data"
    }
   ],
   "source": [
    "import matplotlib.pyplot as plt\n",
    "plt.rcParams[\"figure.figsize\"]=10,8\n",
    "Data_intervals_minutes = All_Instants_Data['PTT']\n",
    "Data_intervals_minutes.plot(kind='hist', bins=600)"
   ]
  },
  {
   "cell_type": "code",
   "execution_count": 117,
   "metadata": {},
   "outputs": [
    {
     "data": {
      "text/html": [
       "<div>\n",
       "<style scoped>\n",
       "    .dataframe tbody tr th:only-of-type {\n",
       "        vertical-align: middle;\n",
       "    }\n",
       "\n",
       "    .dataframe tbody tr th {\n",
       "        vertical-align: top;\n",
       "    }\n",
       "\n",
       "    .dataframe thead th {\n",
       "        text-align: right;\n",
       "    }\n",
       "</style>\n",
       "<table border=\"1\" class=\"dataframe\">\n",
       "  <thead>\n",
       "    <tr style=\"text-align: right;\">\n",
       "      <th></th>\n",
       "      <th>PTT</th>\n",
       "      <th>HR</th>\n",
       "      <th>SBP</th>\n",
       "      <th>DBP</th>\n",
       "    </tr>\n",
       "  </thead>\n",
       "  <tbody>\n",
       "    <tr>\n",
       "      <th>count</th>\n",
       "      <td>291898.000000</td>\n",
       "      <td>291898.000000</td>\n",
       "      <td>291898.000000</td>\n",
       "      <td>291898.000000</td>\n",
       "    </tr>\n",
       "    <tr>\n",
       "      <th>mean</th>\n",
       "      <td>0.108580</td>\n",
       "      <td>102.206733</td>\n",
       "      <td>129.532260</td>\n",
       "      <td>71.519072</td>\n",
       "    </tr>\n",
       "    <tr>\n",
       "      <th>std</th>\n",
       "      <td>0.099083</td>\n",
       "      <td>14.842666</td>\n",
       "      <td>20.305008</td>\n",
       "      <td>9.927287</td>\n",
       "    </tr>\n",
       "    <tr>\n",
       "      <th>min</th>\n",
       "      <td>0.008000</td>\n",
       "      <td>54.644809</td>\n",
       "      <td>80.006500</td>\n",
       "      <td>60.000000</td>\n",
       "    </tr>\n",
       "    <tr>\n",
       "      <th>25%</th>\n",
       "      <td>0.038000</td>\n",
       "      <td>93.530787</td>\n",
       "      <td>114.804000</td>\n",
       "      <td>64.102800</td>\n",
       "    </tr>\n",
       "    <tr>\n",
       "      <th>50%</th>\n",
       "      <td>0.076000</td>\n",
       "      <td>101.522843</td>\n",
       "      <td>128.398000</td>\n",
       "      <td>68.780200</td>\n",
       "    </tr>\n",
       "    <tr>\n",
       "      <th>75%</th>\n",
       "      <td>0.136000</td>\n",
       "      <td>111.255331</td>\n",
       "      <td>143.700000</td>\n",
       "      <td>76.453250</td>\n",
       "    </tr>\n",
       "    <tr>\n",
       "      <th>max</th>\n",
       "      <td>0.398857</td>\n",
       "      <td>155.792129</td>\n",
       "      <td>180.000000</td>\n",
       "      <td>129.960000</td>\n",
       "    </tr>\n",
       "  </tbody>\n",
       "</table>\n",
       "</div>"
      ],
      "text/plain": [
       "                 PTT             HR            SBP            DBP\n",
       "count  291898.000000  291898.000000  291898.000000  291898.000000\n",
       "mean        0.108580     102.206733     129.532260      71.519072\n",
       "std         0.099083      14.842666      20.305008       9.927287\n",
       "min         0.008000      54.644809      80.006500      60.000000\n",
       "25%         0.038000      93.530787     114.804000      64.102800\n",
       "50%         0.076000     101.522843     128.398000      68.780200\n",
       "75%         0.136000     111.255331     143.700000      76.453250\n",
       "max         0.398857     155.792129     180.000000     129.960000"
      ]
     },
     "execution_count": 117,
     "metadata": {},
     "output_type": "execute_result"
    }
   ],
   "source": [
    "All_Instants_Data.describe()"
   ]
  },
  {
   "cell_type": "markdown",
   "metadata": {},
   "source": [
    "### 3.2 Pipelines for Data Cleansing (replaced temporarily, may reuse for scaling)"
   ]
  },
  {
   "cell_type": "code",
   "execution_count": 3,
   "metadata": {
    "scrolled": true
   },
   "outputs": [],
   "source": [
    "\n",
    "#%% Preprocessing Train & Test Data:\n",
    "# Preparing Train Data:\n",
    "from sklearn.metrics import mean_squared_error\n",
    "from FilesfnCopy import RemoveGarbageEncodeObjects, display_scores\n",
    "from sklearn.pipeline import Pipeline\n",
    "from sklearn.preprocessing import StandardScaler\n",
    "train_pipeline = Pipeline([\n",
    "        ('GarbageReomve_ObjectDataEncoding', RemoveGarbageEncodeObjects('train',train_copy2_tr)),\n",
    "        ('std_scaler', StandardScaler()),\n",
    "    ])\n",
    "train_copy2_tr = train_pipeline.fit_transform(train_copy2_tr) # now it is a complete matrix, mean=0, var=1\n",
    "\n",
    "# Preparing Test Data:\n",
    "test_pipeline = Pipeline([\n",
    "        ('GarbageReomve_ObjectDataEncoding', RemoveGarbageEncodeObjects('test',test_copy_tr)),\n",
    "        ('std_scaler', StandardScaler()),\n",
    "    ])\n",
    "test_copy_tr = test_pipeline.fit_transform(test_copy_tr)"
   ]
  },
  {
   "cell_type": "markdown",
   "metadata": {},
   "source": [
    "## 4) Learning & Testing & Evaluation using different models:"
   ]
  },
  {
   "cell_type": "markdown",
   "metadata": {},
   "source": [
    "### 4.0 Regulated Models"
   ]
  },
  {
   "cell_type": "markdown",
   "metadata": {},
   "source": [
    "#### 4.0.1 Ridge Regression"
   ]
  },
  {
   "cell_type": "code",
   "execution_count": 7,
   "metadata": {},
   "outputs": [
    {
     "name": "stdout",
     "output_type": "stream",
     "text": [
      "Ridge Regression has RMSE:  5.64887375783416  and MAE:  4.57845094080368\n",
      "Training MAE:  4.74194391883461 Test MAE:  4.57845094080368\n"
     ]
    }
   ],
   "source": [
    "\n",
    "from sklearn.linear_model import Ridge\n",
    "ridge_reg = Ridge(alpha=1, solver=\"cholesky\")\n",
    "ridge_reg.fit(train_copy2_tr, train_labels)\n",
    "ridge_Predictions = ridge_reg.predict(test_copy_tr)\n",
    "\n",
    "from sklearn.metrics import mean_squared_error\n",
    "ridge_mse = mean_squared_error(test_labels, ridge_Predictions)\n",
    "ridge_rmse = np.sqrt(ridge_mse)\n",
    "ridge_MAE = np.mean(abs(test_labels - ridge_Predictions))\n",
    "print(\"Ridge Regression has RMSE: \",ridge_rmse, \" and MAE: \", ridge_MAE)\n",
    "print(\"Training MAE: \", np.mean(abs(train_labels - ridge_reg.predict(train_copy2_tr))), \"Test MAE: \", ridge_MAE)"
   ]
  },
  {
   "cell_type": "markdown",
   "metadata": {},
   "source": [
    "#### 4.0.2 Polynomial Regression"
   ]
  },
  {
   "cell_type": "code",
   "execution_count": 8,
   "metadata": {},
   "outputs": [
    {
     "name": "stdout",
     "output_type": "stream",
     "text": [
      "Polynomial Regression of degree:  2  has RMSE:  5.665344823447999  and MAE:  4.529749295487399\n"
     ]
    }
   ],
   "source": [
    "from sklearn.preprocessing import PolynomialFeatures\n",
    "from sklearn.linear_model import LinearRegression\n",
    "import numpy as np\n",
    "deg_p = 2\n",
    "poly_features = PolynomialFeatures(degree=deg_p, include_bias=False)\n",
    "X_poly = poly_features.fit_transform(train_copy2_tr)\n",
    "poly_lin_reg = LinearRegression()\n",
    "poly_lin_reg.fit(X_poly, train_labels)\n",
    "poly_LR_Predictions= poly_lin_reg.predict(poly_features.fit_transform(test_copy_tr)) # should the test data be poly as well??\n",
    "#lin_reg.intercept_, lin_\n",
    "from sklearn.metrics import mean_squared_error\n",
    "poly_LR_mse = mean_squared_error(test_labels, poly_LR_Predictions)\n",
    "poly_LR_rmse = np.sqrt(poly_LR_mse)\n",
    "poly_MAE = np.mean(abs(test_labels - poly_LR_Predictions))\n",
    "print(\"Polynomial Regression of degree: \", deg_p, \" has RMSE: \",poly_LR_rmse, \" and MAE: \", poly_MAE)"
   ]
  },
  {
   "cell_type": "code",
   "execution_count": 9,
   "metadata": {},
   "outputs": [
    {
     "name": "stdout",
     "output_type": "stream",
     "text": [
      "Polynomial Ridge Regression of degree:  2  has RMSE:  5.5966838347516505  and MAE:  4.5196822520459845\n",
      "Training MAE:  4.635697540375938 Test MAE:  4.5196822520459845\n"
     ]
    }
   ],
   "source": [
    "# Regulated polynomial regression -- using Ridge with Polynomial Regression\n",
    "from sklearn.preprocessing import PolynomialFeatures\n",
    "from sklearn.linear_model import LinearRegression\n",
    "from sklearn.linear_model import Ridge\n",
    "import numpy as np\n",
    "# prepare polynomial\n",
    "deg_p = 2\n",
    "alp = 100 # was 1 .. it looks like it does not matter for the second degree! \n",
    "poly_features = PolynomialFeatures(degree=deg_p, include_bias=False)\n",
    "X_poly = poly_features.fit_transform(train_copy2_tr)\n",
    "# ridge regression using the polynomial features\n",
    "poly_ridge_reg = Ridge(alpha=alp, solver=\"cholesky\")\n",
    "poly_ridge_reg.fit(X_poly, train_labels)\n",
    "poly_ridge_Predictions = poly_ridge_reg.predict(poly_features.fit_transform(test_copy_tr)) \n",
    "\n",
    "from sklearn.metrics import mean_squared_error\n",
    "poly_ridge_mse = mean_squared_error(test_labels, poly_ridge_Predictions)\n",
    "poly_ridge_rmse = np.sqrt(poly_ridge_mse)\n",
    "poly_ridge_MAE = np.mean(abs(test_labels - poly_ridge_Predictions))\n",
    "print(\"Polynomial Ridge Regression of degree: \", deg_p, \" has RMSE: \",poly_ridge_rmse, \" and MAE: \", poly_ridge_MAE)\n",
    "print(\"Training MAE: \", np.mean(abs(train_labels - poly_ridge_reg.predict(X_poly))), \"Test MAE: \", poly_ridge_MAE)"
   ]
  },
  {
   "cell_type": "markdown",
   "metadata": {},
   "source": [
    "#### 4.0.3 Regulated Decision Trees"
   ]
  },
  {
   "cell_type": "code",
   "execution_count": 10,
   "metadata": {},
   "outputs": [
    {
     "data": {
      "image/png": "[encoded data removed]",
      "text/plain": [
       "<Figure size 720x576 with 1 Axes>"
      ]
     },
     "metadata": {
      "needs_background": "light"
     },
     "output_type": "display_data"
    },
    {
     "data": {
      "image/png": "[encoded data removed]",
      "text/plain": [
       "<Figure size 720x576 with 1 Axes>"
      ]
     },
     "metadata": {
      "needs_background": "light"
     },
     "output_type": "display_data"
    },
    {
     "data": {
      "image/png": "[encoded data removed]",
      "text/plain": [
       "<Figure size 720x576 with 1 Axes>"
      ]
     },
     "metadata": {
      "needs_background": "light"
     },
     "output_type": "display_data"
    },
    {
     "data": {
      "image/png": "[encoded data removed]",
      "text/plain": [
       "<Figure size 720x576 with 1 Axes>"
      ]
     },
     "metadata": {
      "needs_background": "light"
     },
     "output_type": "display_data"
    },
    {
     "data": {
      "image/png": "[encoded data removed]",
      "text/plain": [
       "<Figure size 720x576 with 1 Axes>"
      ]
     },
     "metadata": {
      "needs_background": "light"
     },
     "output_type": "display_data"
    }
   ],
   "source": [
    "#min_samples_leaf=10\n",
    "\n",
    "min_samples_vec = [1,10,100,500,1000]\n",
    "\n",
    "import matplotlib.pyplot as plt\n",
    "from sklearn.tree import DecisionTreeRegressor\n",
    "\n",
    "Nodes = [2,4,8,16,32,64,128,256,512,1024,2048,4096]\n",
    "\n",
    "for k in min_samples_vec:\n",
    "    MAE_TR = [0]*len(Nodes)\n",
    "    TR_Error = pd.DataFrame()\n",
    "    \n",
    "    for i in range(len(Nodes)):\n",
    "        # Create Model\n",
    "        file_name = \"SBP_DT_\"+str(Nodes[i])+\"_Nodes\"\n",
    "        tree_reg = DecisionTreeRegressor(max_leaf_nodes=Nodes[i],min_samples_leaf=k) \n",
    "        tree_reg.fit(train_copy2_tr, train_labels)\n",
    "        TR_Predictions = tree_reg.predict(test_copy_tr)\n",
    "        \n",
    "        # Calculate Prediction Errors & MAE\n",
    "        error_TR = abs(test_labels - TR_Predictions)\n",
    "        TR_Error[str(Nodes[i])] = error_TR\n",
    "        MAE_TR[i] = np.mean(error_TR)\n",
    "    \n",
    "    #print(\"min samples leaf: \", k, \" MAE\", MAE_TR)\n",
    "    # Now plot MAE's\n",
    "    plt.rcParams[\"figure.figsize\"]=10,8\n",
    "    plt.xlabel('log2 #Nodes')\n",
    "    plt.ylabel('MAE for SBP [mmHg], Regulated Decision Tree')\n",
    "    plt.plot(np.log2(Nodes),MAE_TR,'-o')\n",
    "    plt.show()\n"
   ]
  },
  {
   "cell_type": "markdown",
   "metadata": {},
   "source": [
    "### 4.1 Linear Regression"
   ]
  },
  {
   "cell_type": "code",
   "execution_count": 55,
   "metadata": {},
   "outputs": [
    {
     "name": "stdout",
     "output_type": "stream",
     "text": [
      "Linear Regression RMSE:  20.356638735695466  and MAE:  16.702781188057052\n",
      "Training MAE:  16.549799941137 Test MAE:  16.702781188057052\n"
     ]
    }
   ],
   "source": [
    "#%% Learning & Testing & Evaluation using different models:\n",
    "import numpy as np\n",
    "#    1) Linear Regression:\n",
    "from sklearn.linear_model import LinearRegression\n",
    "lin_reg = LinearRegression()\n",
    "lin_reg.fit(train_copy2_tr, train_labels)     # Model trained! \n",
    "LR_Predictions= lin_reg.predict(test_copy_tr)\n",
    "from sklearn.metrics import mean_squared_error\n",
    "LR_mse = mean_squared_error(test_labels, LR_Predictions)\n",
    "LR_rmse = np.sqrt(LR_mse)\n",
    "LR_MAE = np.mean(abs(test_labels - LR_Predictions))\n",
    "print(\"Linear Regression RMSE: \",LR_rmse, \" and MAE: \", LR_MAE)\n",
    "print(\"Training MAE: \", np.mean(abs(train_labels - lin_reg.predict(train_copy2_tr))), \"Test MAE: \", LR_MAE)"
   ]
  },
  {
   "cell_type": "markdown",
   "metadata": {},
   "source": [
    "### 4.2 Decision Tree"
   ]
  },
  {
   "cell_type": "code",
   "execution_count": 12,
   "metadata": {},
   "outputs": [
    {
     "name": "stdout",
     "output_type": "stream",
     "text": [
      "DecisionTree Regression RMSE:  5.418244815097818  and MAE:  4.244340825586969\n",
      "Training MAE:  4.286387509053233 Test MAE:  4.244340825586969\n"
     ]
    }
   ],
   "source": [
    "#    2) DecisionTreeRegressor: More powerful & models non-linearities \n",
    "from sklearn.tree import DecisionTreeRegressor\n",
    "tree_reg = DecisionTreeRegressor(max_leaf_nodes=256, min_samples_leaf=100) #########################################\n",
    "tree_reg.fit(train_copy2_tr, train_labels)\n",
    "TR_Predictions = tree_reg.predict(test_copy_tr)\n",
    "TR_mse = mean_squared_error(test_labels, TR_Predictions)\n",
    "TR_rmse = np.sqrt(TR_mse)\n",
    "TR_MAE = np.mean(abs(test_labels - TR_Predictions))\n",
    "print(\"DecisionTree Regression RMSE: \",TR_rmse, \" and MAE: \", TR_MAE)\n",
    "print(\"Training MAE: \", np.mean(abs(train_labels - tree_reg.predict(train_copy2_tr))), \"Test MAE: \", TR_MAE)"
   ]
  },
  {
   "cell_type": "markdown",
   "metadata": {},
   "source": [
    "### 4.3 Random Forest"
   ]
  },
  {
   "cell_type": "code",
   "execution_count": 32,
   "metadata": {},
   "outputs": [
    {
     "data": {
      "text/plain": [
       "14.688167833520257"
      ]
     },
     "execution_count": 32,
     "metadata": {},
     "output_type": "execute_result"
    }
   ],
   "source": [
    "np.mean(abs(test_labels - FR_Predictions))"
   ]
  },
  {
   "cell_type": "code",
   "execution_count": 24,
   "metadata": {},
   "outputs": [
    {
     "data": {
      "text/plain": [
       "['forest_reg_4trees_16nodes_0402.pkl']"
      ]
     },
     "execution_count": 24,
     "metadata": {},
     "output_type": "execute_result"
    }
   ],
   "source": [
    "import joblib\n",
    "joblib.dump(forest_reg,\"forest_reg_4trees_16nodes_0402.pkl\")"
   ]
  },
  {
   "cell_type": "markdown",
   "metadata": {},
   "source": [
    "### 4.4 SVM"
   ]
  },
  {
   "cell_type": "markdown",
   "metadata": {},
   "source": [
    "#### 4.4.1 Linear SVM"
   ]
  },
  {
   "cell_type": "code",
   "execution_count": 9,
   "metadata": {},
   "outputs": [
    {
     "name": "stdout",
     "output_type": "stream",
     "text": [
      "Linear SVM RMSE:  20.044143627899075  & MAE:  16.29303670244896\n"
     ]
    }
   ],
   "source": [
    "#    4) SVM: Support Vector Machine (Linear and Non-Linear)\n",
    "# Linear SVM\n",
    "from sklearn.svm import LinearSVR\n",
    "SVM_reg = LinearSVR(epsilon=5) # epsilon=.1 but 5 is better (MAE 14.0119)! \n",
    "SVM_reg.fit(train_copy2_tr, train_labels)\n",
    "SVM_Predictions = SVM_reg.predict(test_copy_tr)\n",
    "SVM_mse = mean_squared_error(test_labels, SVM_Predictions)\n",
    "SVM_rmse = np.sqrt(SVM_mse)\n",
    "SVM_MAE = np.mean(abs(test_labels - SVM_Predictions)) \n",
    "print(\"Linear SVM RMSE: \",SVM_rmse, \" & MAE: \",SVM_MAE)\n"
   ]
  },
  {
   "cell_type": "markdown",
   "metadata": {},
   "source": [
    "#### 4.4.2 Polynomial SVM"
   ]
  },
  {
   "cell_type": "code",
   "execution_count": 72,
   "metadata": {},
   "outputs": [
    {
     "name": "stdout",
     "output_type": "stream",
     "text": [
      "SVM with kernel Regression RMSE:  17.045349003312722  & MAE:  13.413558848066428\n"
     ]
    }
   ],
   "source": [
    "from sklearn.svm import SVR\n",
    "SVM_poly_reg = SVR(kernel=\"poly\", degree=3, C=60, epsilon=1, coef0=1)\n",
    "# coef0 controls how much the model is influenced by highdegree polynomials vs low-degree polynomials.\n",
    "SVM_poly_reg.fit(train_copy2_tr, train_labels)\n",
    "SVM_poly_Predictions = SVM_poly_reg.predict(test_copy_tr)\n",
    "SVM_poly_mse = mean_squared_error(test_labels, SVM_poly_Predictions)\n",
    "SVM_poly_rmse = np.sqrt(SVM_poly_mse)\n",
    "SVM_poly_MAE = np.mean(abs(test_labels - SVM_poly_Predictions)) \n",
    "print(\"SVM with kernel Regression RMSE: \",SVM_poly_rmse, \" & MAE: \",SVM_poly_MAE)\n"
   ]
  },
  {
   "cell_type": "markdown",
   "metadata": {},
   "source": [
    "## Check Error CDF for the best Alg (for Grade A,B,C)"
   ]
  },
  {
   "cell_type": "code",
   "execution_count": 37,
   "metadata": {},
   "outputs": [
    {
     "name": "stderr",
     "output_type": "stream",
     "text": [
      "C:\\ProgramData\\Anaconda3\\lib\\site-packages\\ipykernel_launcher.py:4: MatplotlibDeprecationWarning: \n",
      "The 'normed' kwarg was deprecated in Matplotlib 2.1 and will be removed in 3.1. Use 'density' instead.\n",
      "  after removing the cwd from sys.path.\n"
     ]
    },
    {
     "data": {
      "text/plain": [
       "(array([0.02905148, 0.05797327, 0.08609095, 0.11347587, 0.14137956,\n",
       "        0.16976311, 0.19823746, 0.22555104, 0.25433665, 0.28207173,\n",
       "        0.30929453, 0.33569377, 0.36165204, 0.38665707, 0.41201875,\n",
       "        0.43682275, 0.46086804, 0.48436213, 0.50751253, 0.52967726,\n",
       "        0.55155665, 0.57300158, 0.59344137, 0.6135699 , 0.63277111,\n",
       "        0.65132385, 0.67014895, 0.68838395, 0.70593805, 0.7227918 ,\n",
       "        0.73939913, 0.75567574, 0.77204314, 0.78767128, 0.80363662,\n",
       "        0.81860332, 0.83275944, 0.84547594, 0.85771907, 0.86852259,\n",
       "        0.87904727, 0.88885863, 0.89761298, 0.90603013, 0.91355239,\n",
       "        0.92063369, 0.92678119, 0.93244882, 0.93766252, 0.94257793,\n",
       "        0.94652063, 0.95058006, 0.95388726, 0.95690913, 0.95962622,\n",
       "        0.96231089, 0.96469078, 0.96718739, 0.96952837, 0.97168777,\n",
       "        0.97367209, 0.97550078, 0.97737486, 0.979223  , 0.98092848,\n",
       "        0.98234863, 0.98371042, 0.98481282, 0.98612273, 0.98721864,\n",
       "        0.98844425, 0.9896115 , 0.99048045, 0.99165418, 0.99275658,\n",
       "        0.99373577, 0.9946566 , 0.99553204, 0.99637505, 0.99697164,\n",
       "        0.99759417, 0.99806756, 0.99840476, 0.99870306, 0.99902081,\n",
       "        0.99920887, 0.99935153, 0.99945528, 0.99956552, 0.99964334,\n",
       "        0.99969522, 0.99976655, 0.99985734, 0.99988976, 0.99992867,\n",
       "        0.99995461, 0.99996758, 0.99998055, 0.99998703, 1.        ]),\n",
       " array([2.86014922e-05, 6.42718899e-01, 1.28540920e+00, 1.92809949e+00,\n",
       "        2.57078979e+00, 3.21348009e+00, 3.85617039e+00, 4.49886069e+00,\n",
       "        5.14155098e+00, 5.78424128e+00, 6.42693158e+00, 7.06962188e+00,\n",
       "        7.71231217e+00, 8.35500247e+00, 8.99769277e+00, 9.64038307e+00,\n",
       "        1.02830734e+01, 1.09257637e+01, 1.15684540e+01, 1.22111443e+01,\n",
       "        1.28538346e+01, 1.34965249e+01, 1.41392152e+01, 1.47819054e+01,\n",
       "        1.54245957e+01, 1.60672860e+01, 1.67099763e+01, 1.73526666e+01,\n",
       "        1.79953569e+01, 1.86380472e+01, 1.92807375e+01, 1.99234278e+01,\n",
       "        2.05661181e+01, 2.12088084e+01, 2.18514987e+01, 2.24941890e+01,\n",
       "        2.31368793e+01, 2.37795696e+01, 2.44222599e+01, 2.50649502e+01,\n",
       "        2.57076405e+01, 2.63503308e+01, 2.69930211e+01, 2.76357114e+01,\n",
       "        2.82784017e+01, 2.89210920e+01, 2.95637823e+01, 3.02064726e+01,\n",
       "        3.08491629e+01, 3.14918532e+01, 3.21345435e+01, 3.27772338e+01,\n",
       "        3.34199241e+01, 3.40626144e+01, 3.47053047e+01, 3.53479950e+01,\n",
       "        3.59906853e+01, 3.66333756e+01, 3.72760659e+01, 3.79187562e+01,\n",
       "        3.85614465e+01, 3.92041368e+01, 3.98468271e+01, 4.04895174e+01,\n",
       "        4.11322077e+01, 4.17748980e+01, 4.24175882e+01, 4.30602785e+01,\n",
       "        4.37029688e+01, 4.43456591e+01, 4.49883494e+01, 4.56310397e+01,\n",
       "        4.62737300e+01, 4.69164203e+01, 4.75591106e+01, 4.82018009e+01,\n",
       "        4.88444912e+01, 4.94871815e+01, 5.01298718e+01, 5.07725621e+01,\n",
       "        5.14152524e+01, 5.20579427e+01, 5.27006330e+01, 5.33433233e+01,\n",
       "        5.39860136e+01, 5.46287039e+01, 5.52713942e+01, 5.59140845e+01,\n",
       "        5.65567748e+01, 5.71994651e+01, 5.78421554e+01, 5.84848457e+01,\n",
       "        5.91275360e+01, 5.97702263e+01, 6.04129166e+01, 6.10556069e+01,\n",
       "        6.16982972e+01, 6.23409875e+01, 6.29836778e+01, 6.36263681e+01,\n",
       "        6.42690584e+01]),\n",
       " <a list of 1 Patch objects>)"
      ]
     },
     "execution_count": 37,
     "metadata": {},
     "output_type": "execute_result"
    },
    {
     "data": {
      "image/png": "[encoded data removed]",
      "text/plain": [
       "<Figure size 576x288 with 1 Axes>"
      ]
     },
     "metadata": {
      "needs_background": "light"
     },
     "output_type": "display_data"
    }
   ],
   "source": [
    "Error_LR = abs(test_labels - LR_Predictions)\n",
    "import matplotlib.pyplot as plt\n",
    "fig, ax = plt.subplots(figsize=(8, 4))\n",
    "ax.hist(Error_LR, 100, normed=1, histtype='step', cumulative=True, label='Empirical')"
   ]
  },
  {
   "cell_type": "code",
   "execution_count": 19,
   "metadata": {},
   "outputs": [
    {
     "data": {
      "text/plain": [
       "['SVM_reg0324.pkl']"
      ]
     },
     "execution_count": 19,
     "metadata": {},
     "output_type": "execute_result"
    }
   ],
   "source": [
    "import joblib\n",
    "# Saving SBP Estimation Models:\n",
    "joblib.dump(lin_reg,\"lin_reg0324.pkl\")\n",
    "joblib.dump(tree_reg,\"tree_reg_4nodes_0402.pkl\")\n",
    "joblib.dump(forest_reg,\"forest_reg0324.pkl\")\n",
    "joblib.dump(SVM_reg,\"SVM_reg0324.pkl\")\n",
    "#joblib.dump(,\"0324.pkl\")\n",
    "\n",
    "# to load it, just use: xyz = joblib.load(\"model_name_as_saved.pkl\")"
   ]
  },
  {
   "cell_type": "code",
   "execution_count": 105,
   "metadata": {},
   "outputs": [
    {
     "data": {
      "text/plain": [
       "['SVM_SBP_best_13_9_0414.pkl']"
      ]
     },
     "execution_count": 105,
     "metadata": {},
     "output_type": "execute_result"
    }
   ],
   "source": [
    "import joblib\n",
    "# Saving SBP Estimation Models:\n",
    "\n",
    "joblib.dump(SVM_reg,\"SVM_SBP_best_13_9_0414.pkl\")\n",
    "#joblib.dump(,\"0324.pkl\")\n",
    "\n",
    "# to load it, just use: xyz = joblib.load(\"model_name_as_saved.pkl\")"
   ]
  },
  {
   "cell_type": "markdown",
   "metadata": {},
   "source": [
    "## 3) DBP Estimation"
   ]
  },
  {
   "cell_type": "markdown",
   "metadata": {},
   "source": [
    "### 3.1 Load Data (if not loaded already from SBP part)"
   ]
  },
  {
   "cell_type": "code",
   "execution_count": 36,
   "metadata": {},
   "outputs": [],
   "source": [
    "import pandas as pd\n",
    "import numpy as np\n",
    "\n",
    "take_log_PTT = 0\n",
    "#################################################################################\n",
    "Remove_HR_Outliers = 1 # =1 if required more constraints on HR ( 54.4 < HR < 155.8) \n",
    "Remove_PTT_Outliers = 1\n",
    "Remove_BP_Outliers = 1\n",
    "\n",
    "Remove_PTTm_Outliers = 0 #(PATf)\n",
    "Remove_PTTh_Outliers = 0 #(PPG Max-to-Min)\n",
    "\n",
    "###### NEW FIXED DATA !!!!!!!!!! #################\n",
    "All_Instants_Data2 = pd.read_csv('Extracted_Instants_Parameters_8secWindow_PTTm_PTTh_210609.csv')\n",
    "#All_Instants_Data2 = pd.read_csv('Extracted_Instants_Parameters_NEW_FIXED_PTT_2021_05_18_Dist_40_3sec.csv') \n",
    "All_Instants_Data2.dropna(inplace=True)\n",
    "All_Instants_Data = All_Instants_Data2\n",
    "\n",
    "if take_log_PTT != 1:\n",
    "    All_Instants_Data['PTT'] = np.exp(All_Instants_Data['PTT']) ################ NOT LOG ANYMORE # By commenting this, it is log\n",
    "    All_Instants_Data['PTTm'] = np.exp(All_Instants_Data['PTTm'])\n",
    "\n",
    "# Removing BP Outliers\n",
    "if Remove_BP_Outliers == 1:\n",
    "    cond_BP = ((All_Instants_Data['SBP']<180) & (All_Instants_Data['SBP']>80)) & ((All_Instants_Data['DBP']<130) & (All_Instants_Data['DBP']>60))\n",
    "    All_Instants_Data= All_Instants_Data.loc[cond_BP, ['PTTh','PTTm','PTT','HR','SBP', 'DBP']]\n",
    "\n",
    "# Removing HR Outliers\n",
    "if Remove_HR_Outliers == 1: \n",
    "    cond_HR = ((All_Instants_Data['HR']>54.4) & (All_Instants_Data['HR']<155.8))\n",
    "    All_Instants_Data= All_Instants_Data.loc[cond_HR, ['PTTh','PTTm','PTT','HR','SBP', 'DBP']]\n",
    "    \n",
    "# Removing PTT Ouliers (outlier if PTT>1.5) # So far, considering PTT<0.5 range gave the best result\n",
    "if Remove_PTT_Outliers == 1: \n",
    "    cond_PTT = (All_Instants_Data['PTT']<0.4) #& (All_Instants_Data['PTT']>.015) #### KEEP <0.4 only ##################\n",
    "    All_Instants_Data= All_Instants_Data.loc[cond_PTT, ['PTTh','PTTm','PTT','HR','SBP', 'DBP']]\n",
    "    \n",
    "# Removing PTTm (PATf) Outliers\n",
    "if Remove_PTTm_Outliers == 1: \n",
    "    cond_PTTm = ((All_Instants_Data['PTTm']>0.7) & (All_Instants_Data['PTTm']<1.5))\n",
    "    All_Instants_Data= All_Instants_Data.loc[cond_PTTm, ['PTTh','PTTm','PTT','HR','SBP', 'DBP']]\n",
    "    \n",
    "# Removing PTTh (PPG Max-to-Min) Outliers\n",
    "if Remove_PTTh_Outliers == 1: \n",
    "    cond_PTTh = ((All_Instants_Data['PTTh']>1) & (All_Instants_Data['PTTh']<2))\n",
    "    All_Instants_Data= All_Instants_Data.loc[cond_PTTh, ['PTTh','PTTm','PTT','HR','SBP', 'DBP']]"
   ]
  },
  {
   "cell_type": "markdown",
   "metadata": {},
   "source": [
    "## 4) Preparing Data for Regression [Predictive Models]"
   ]
  },
  {
   "cell_type": "markdown",
   "metadata": {},
   "source": [
    "### 4.1 Splitting data between Train & Test -- This part assumes data loaded & outliers removed in SBP step"
   ]
  },
  {
   "cell_type": "code",
   "execution_count": 35,
   "metadata": {},
   "outputs": [],
   "source": [
    "do_scaling = 0\n",
    "# Better distribution of Train-Test data (homog over DBP)\n",
    "Total_length = len(All_Instants_Data.index)\n",
    "temp_data = All_Instants_Data.loc[:, ['PTTh','PTTm','PTT','HR']]\n",
    "from sklearn.model_selection import train_test_split\n",
    "train_copy2_tr_DBP, test_copy_tr_DBP, train_labels_DBP, test_labels_DBP = train_test_split(temp_data, All_Instants_Data['DBP'], test_size=0.2, random_state=42,shuffle=True)\n",
    "\n",
    "if do_scaling == 1:\n",
    "        train_pipeline = Pipeline([\n",
    "                ('GarbageReomve_ObjectDataEncoding', RemoveGarbageEncodeObjects('train',train_copy2_tr_DBP)),\n",
    "                ('std_scaler', StandardScaler()),\n",
    "        ])\n",
    "        train_copy2_tr_DBP = train_pipeline.fit_transform(train_copy2_tr_DBP) # now it is a complete matrix, mean=0, var=1\n",
    "        # Preparing Test Data:\n",
    "        test_pipeline = Pipeline([\n",
    "                ('GarbageReomve_ObjectDataEncoding', RemoveGarbageEncodeObjects('test',test_copy_tr_DBP)),\n",
    "                ('std_scaler', StandardScaler()),\n",
    "        ])\n",
    "        test_copy_tr_DBP = test_pipeline.fit_transform(test_copy_tr_DBP)"
   ]
  },
  {
   "cell_type": "code",
   "execution_count": 36,
   "metadata": {},
   "outputs": [
    {
     "name": "stdout",
     "output_type": "stream",
     "text": [
      "For  ABRF Train MAE is:  3.566490881194794  and Test MAE is:  6.442737323520835\n"
     ]
    },
    {
     "data": {
      "image/png": "[encoded data removed]",
      "text/plain": [
       "<Figure size 864x576 with 1 Axes>"
      ]
     },
     "metadata": {
      "needs_background": "light"
     },
     "output_type": "display_data"
    }
   ],
   "source": [
    "from sklearn.ensemble import AdaBoostRegressor\n",
    "from sklearn.linear_model import LinearRegression\n",
    "from sklearn.preprocessing import PolynomialFeatures\n",
    "from sklearn.ensemble import RandomForestRegressor\n",
    "from sklearn.tree import DecisionTreeRegressor\n",
    "import numpy as np\n",
    "\n",
    "\n",
    "\n",
    "Reg_Model_DBP = \"ABRF\"\n",
    "\n",
    "if Reg_Model_DBP == \"ABRF\":\n",
    "    #AB_reg = AdaBoostRegressor(RandomForestRegressor(n_estimators=128, max_leaf_nodes=4096, min_samples_leaf=1),n_estimators=8)\n",
    "    AB_reg = AdaBoostRegressor(DecisionTreeRegressor(max_leaf_nodes=2*4096, min_samples_leaf=1),n_estimators=1024)\n",
    "    ### Test MAE of 6.22 (train MAE 2.63) @ AB with DT max_leaf_nodes=4096, min_samples_leaf=1),n_estimators=1024\n",
    "    ######### Test MAE of 6.03 @ AB with DT max_leag_nodes = 2*4096, min_samples_leaf=1, n_estimators = 1024\n",
    "    AB_reg.fit(train_copy2_tr_DBP, train_labels_DBP)    \n",
    "    Test_Predictions_DBP = AB_reg.predict(test_copy_tr_DBP)\n",
    "    Train_Predictions_DBP = AB_reg.predict(train_copy2_tr_DBP)\n",
    "\n",
    "if Reg_Model_DBP == \"ABLR\":\n",
    "    AB_reg = AdaBoostRegressor(LinearRegression(),n_estimators=32*1024)\n",
    "    AB_reg.fit(train_copy2_tr_DBP, train_labels_DBP)    \n",
    "    Test_Predictions_DBP = AB_reg.predict(test_copy_tr_DBP)\n",
    "    Train_Predictions_DBP = AB_reg.predict(train_copy2_tr_DBP)\n",
    "    \n",
    "if Reg_Model_DBP == \"DT\":\n",
    "    DT_reg_DBP = DecisionTreeRegressor(max_leaf_nodes=256, min_samples_leaf=200)\n",
    "    DT_reg_DBP.fit(train_copy2_tr_DBP, train_labels_DBP)    \n",
    "    Test_Predictions_DBP = DT_reg_DBP.predict(test_copy_tr_DBP)\n",
    "    Train_Predictions_DBP = DT_reg_DBP.predict(train_copy2_tr_DBP)\n",
    "    \n",
    "        \n",
    "if Reg_Model_DBP == \"PR\":\n",
    "    deg_p = 10\n",
    "    poly_features_DBP = PolynomialFeatures(degree=deg_p, include_bias=False)\n",
    "    X_poly_DBP = poly_features_DBP.fit_transform(train_copy2_tr_DBP)\n",
    "    poly_lin_reg_DBP = LinearRegression()\n",
    "    poly_lin_reg_DBP.fit(X_poly_DBP, train_labels_DBP)\n",
    "    Test_Predictions_DBP = poly_lin_reg_DBP.predict(poly_features_DBP.fit_transform(test_copy_tr_DBP)) \n",
    "    Train_Predictions_DBP = poly_lin_reg_DBP.predict(X_poly_DBP)\n",
    "\n",
    "Test_MAE_DBP = np.mean(abs(test_labels_DBP - Test_Predictions_DBP))\n",
    "Training_MAE_DBP = np.mean(abs(train_labels_DBP - Train_Predictions_DBP))\n",
    "\n",
    "print('For ', Reg_Model_DBP, 'Train MAE is: ', Training_MAE_DBP, ' and Test MAE is: ', Test_MAE_DBP)\n",
    "Error_DBP = abs(Test_Predictions_DBP - test_labels_DBP);\n",
    "import matplotlib.pyplot as plt\n",
    "fig, ax = plt.subplots(figsize=(12, 8));\n",
    "ax.hist(Error_DBP, 500, density=1, histtype='step', cumulative=True, label='Empirical');\n",
    "plt.grid(b=True, which='major', color='gray', alpha=0.6, linestyle='dashdot', lw=1.5)\n",
    "#minor grid lines\n",
    "plt.minorticks_on()\n",
    "plt.grid(b=True, which='minor', color='beige', alpha=0.8, ls='-', lw=1)"
   ]
  },
  {
   "cell_type": "code",
   "execution_count": 75,
   "metadata": {},
   "outputs": [
    {
     "data": {
      "text/plain": [
       "6.0658556284487455"
      ]
     },
     "execution_count": 75,
     "metadata": {},
     "output_type": "execute_result"
    }
   ],
   "source": [
    "np.mean(abs(Error_DBP))"
   ]
  },
  {
   "cell_type": "code",
   "execution_count": 57,
   "metadata": {},
   "outputs": [
    {
     "data": {
      "image/png": "[encoded data removed]",
      "text/plain": [
       "<Figure size 720x576 with 1 Axes>"
      ]
     },
     "metadata": {
      "needs_background": "light"
     },
     "output_type": "display_data"
    }
   ],
   "source": [
    "#    3) Random Forest: Better than tree reg, as it is built over multiple averaged TR's\n",
    "from sklearn.ensemble import RandomForestRegressor\n",
    "from sklearn.tree import DecisionTreeRegressor\n",
    "\n",
    "max_leaf_vec = [16,32,64,128,256, 512, 1024, 2048, 4096, 2*4096, 4*4096]\n",
    "MAE_DT_vec_DBP = [0]*len(max_leaf_vec)\n",
    "\n",
    "for Nl in range(len(max_leaf_vec)):\n",
    "    DT_reg_DBP = DecisionTreeRegressor(max_leaf_nodes=max_leaf_vec[Nl], min_samples_leaf=200)\n",
    "    DT_reg_DBP.fit(train_copy2_tr_DBP, train_labels_DBP)    \n",
    "    Test_Predictions_DBP = DT_reg_DBP.predict(test_copy_tr_DBP)\n",
    "    #Train_Predictions_DBP = DT_reg_DBP.predict(train_copy2_tr_DBP)\n",
    "    MAE_DT_vec_DBP[Nl] = np.mean(abs(test_labels_DBP - Test_Predictions_DBP))\n",
    "#print(\"Random Forest Regression RMSE: \",FR_rmse, \" & MAE: \",FR_MAE)\n",
    "plt.rcParams[\"figure.figsize\"]=10,8\n",
    "plt.xlabel('log2 Number of Estimators')\n",
    "plt.ylabel('MAE for DBP [mmHg], Random Forest w Opt DTs')\n",
    "plt.plot(np.log2(max_leaf_vec), MAE_DT_vec_DBP,'-o')\n",
    "plt.show()"
   ]
  },
  {
   "cell_type": "code",
   "execution_count": 26,
   "metadata": {},
   "outputs": [
    {
     "data": {
      "image/png": "[encoded data removed]",
      "text/plain": [
       "<Figure size 720x576 with 1 Axes>"
      ]
     },
     "metadata": {
      "needs_background": "light"
     },
     "output_type": "display_data"
    }
   ],
   "source": [
    "#    3) Random Forest: Better than tree reg, as it is built over multiple averaged TR's\n",
    "from sklearn.ensemble import RandomForestRegressor\n",
    "N_estimator_vec = [2, 4, 8, 16, 32, 64, 128]\n",
    "MAE_FR_vec_DBP = [0]*len(N_estimator_vec)\n",
    "\n",
    "for Nes in range(len(N_estimator_vec)):\n",
    "    forest_reg_DBP = RandomForestRegressor(n_estimators=N_estimator_vec[Nes], max_leaf_nodes=4096, min_samples_leaf=1) #msl = 100 .. 50 is better\n",
    "    forest_reg_DBP.fit(train_copy2_tr_DBP, train_labels_DBP)\n",
    "    FR_Predictions_DBP = forest_reg_DBP.predict(test_copy_tr_DBP)\n",
    "    MAE_FR_vec_DBP[Nes] = np.mean(abs(test_labels_DBP - FR_Predictions_DBP))\n",
    "#print(\"Random Forest Regression RMSE: \",FR_rmse, \" & MAE: \",FR_MAE)\n",
    "plt.rcParams[\"figure.figsize\"]=10,8\n",
    "plt.xlabel('log2 Number of Estimators')\n",
    "plt.ylabel('MAE for DBP [mmHg], Random Forest w Opt DTs')\n",
    "plt.plot(np.log2(N_estimator_vec), MAE_FR_vec_DBP,'-o')\n",
    "plt.show()"
   ]
  },
  {
   "cell_type": "code",
   "execution_count": 27,
   "metadata": {},
   "outputs": [
    {
     "data": {
      "image/png": "[encoded data removed]",
      "text/plain": [
       "<Figure size 864x576 with 1 Axes>"
      ]
     },
     "metadata": {
      "needs_background": "light"
     },
     "output_type": "display_data"
    }
   ],
   "source": [
    "from sklearn.ensemble import RandomForestRegressor\n",
    "\n",
    "forest_reg_DBP = RandomForestRegressor(n_estimators=128, max_leaf_nodes=2048, min_samples_leaf=5) #msl = 100 .. 50 is better\n",
    "forest_reg_DBP.fit(train_copy2_tr_DBP, train_labels_DBP)\n",
    "FR_Predictions_DBP = forest_reg_DBP.predict(test_copy_tr_DBP)\n",
    "Error_FR_DBP = abs(test_labels_DBP - FR_Predictions_DBP);\n",
    "import matplotlib.pyplot as plt\n",
    "fig, ax = plt.subplots(figsize=(12, 8));\n",
    "ax.hist(Error_FR_DBP, 500, density=1, histtype='step', cumulative=True, label='Empirical');\n",
    "plt.grid()"
   ]
  },
  {
   "cell_type": "markdown",
   "metadata": {},
   "source": [
    "### 3.2 Pipelines for Data Cleansing "
   ]
  },
  {
   "cell_type": "code",
   "execution_count": 61,
   "metadata": {},
   "outputs": [],
   "source": [
    "#%% Preprocessing Train & Test Data:\n",
    "# Preparing Train Data:\n",
    "from FilesfnCopy import RemoveGarbageEncodeObjects, display_scores\n",
    "from sklearn.pipeline import Pipeline\n",
    "from sklearn.preprocessing import StandardScaler\n",
    "train_pipeline_DBP = Pipeline([\n",
    "        ('GarbageReomve_ObjectDataEncoding', RemoveGarbageEncodeObjects('train',train_copy2_tr_DBP)),\n",
    "        ('std_scaler', StandardScaler()),\n",
    "    ])\n",
    "train_copy2_tr_DBP = train_pipeline_DBP.fit_transform(train_copy2_tr_DBP) # now it is a complete matrix, mean=0, var=1\n",
    "\n",
    "# Preparing Test Data:\n",
    "test_pipeline_DBP = Pipeline([\n",
    "        ('GarbageReomve_ObjectDataEncoding', RemoveGarbageEncodeObjects('test',test_copy_tr_DBP)),\n",
    "        ('std_scaler', StandardScaler()),\n",
    "    ])\n",
    "test_copy_tr_DBP = test_pipeline_DBP.fit_transform(test_copy_tr_DBP)\n"
   ]
  },
  {
   "cell_type": "markdown",
   "metadata": {},
   "source": [
    "## 4) Learning & Testing & Evaluation using different models:"
   ]
  },
  {
   "cell_type": "markdown",
   "metadata": {},
   "source": [
    "### 4.1 Linear Regression"
   ]
  },
  {
   "cell_type": "code",
   "execution_count": 84,
   "metadata": {},
   "outputs": [
    {
     "name": "stdout",
     "output_type": "stream",
     "text": [
      "Linear Regression RMSE:  9.942138742034308  & MAE:  7.643920073614273\n"
     ]
    }
   ],
   "source": [
    "#%% Learning & Testing & Evaluation using different models:\n",
    "import numpy as np\n",
    "#    1) Linear Regression:\n",
    "from sklearn.linear_model import LinearRegression\n",
    "lin_reg_DBP = LinearRegression()\n",
    "lin_reg_DBP.fit(train_copy2_tr_DBP, train_labels_DBP)     # Model trained! \n",
    "LR_Predictions_DBP= lin_reg_DBP.predict(test_copy_tr_DBP)\n",
    "from sklearn.metrics import mean_squared_error\n",
    "LR_mse_DBP = mean_squared_error(test_labels_DBP, LR_Predictions_DBP)\n",
    "LR_rmse_DBP = np.sqrt(LR_mse_DBP)\n",
    "LR_MAE_DBP = np.mean(abs(test_labels_DBP - LR_Predictions_DBP))\n",
    "print(\"Linear Regression RMSE: \",LR_rmse_DBP, \" & MAE: \", LR_MAE_DBP)"
   ]
  },
  {
   "cell_type": "code",
   "execution_count": 48,
   "metadata": {},
   "outputs": [],
   "source": [
    "Error_LR_DBP = abs(test_labels_DBP - LR_Predictions_DBP);"
   ]
  },
  {
   "cell_type": "code",
   "execution_count": 49,
   "metadata": {},
   "outputs": [
    {
     "name": "stderr",
     "output_type": "stream",
     "text": [
      "C:\\ProgramData\\Anaconda3\\lib\\site-packages\\ipykernel_launcher.py:3: MatplotlibDeprecationWarning: \n",
      "The 'normed' kwarg was deprecated in Matplotlib 2.1 and will be removed in 3.1. Use 'density' instead.\n",
      "  This is separate from the ipykernel package so we can avoid doing imports until\n"
     ]
    },
    {
     "data": {
      "image/png": "[encoded data removed]",
      "text/plain": [
       "<Figure size 576x288 with 1 Axes>"
      ]
     },
     "metadata": {
      "needs_background": "light"
     },
     "output_type": "display_data"
    }
   ],
   "source": [
    "import matplotlib.pyplot as plt\n",
    "fig, ax = plt.subplots(figsize=(8, 4));\n",
    "ax.hist(Error_LR_DBP, 500, normed=1, histtype='step', cumulative=True, label='Empirical');"
   ]
  },
  {
   "cell_type": "markdown",
   "metadata": {},
   "source": [
    "### 4.2 Decision Tree"
   ]
  },
  {
   "cell_type": "code",
   "execution_count": 145,
   "metadata": {},
   "outputs": [
    {
     "name": "stdout",
     "output_type": "stream",
     "text": [
      "DecisionTree Regression RMSE:  13.391179251478748\n"
     ]
    }
   ],
   "source": [
    "#    2) DecisionTreeRegressor: More powerful & models non-linearities \n",
    "from sklearn.tree import DecisionTreeRegressor\n",
    "tree_reg_DBP = DecisionTreeRegressor()\n",
    "tree_reg_DBP.fit(train_copy2_tr_DBP, train_labels_DBP)\n",
    "TR_Predictions_DBP = tree_reg_DBP.predict(test_copy_tr_DBP)\n",
    "TR_mse_DBP = mean_squared_error(test_labels_DBP, TR_Predictions_DBP)\n",
    "TR_rmse_DBP = np.sqrt(TR_mse_DBP)\n",
    "print(\"DecisionTree Regression RMSE: \",TR_rmse_DBP)"
   ]
  },
  {
   "cell_type": "markdown",
   "metadata": {},
   "source": [
    "### 4.3 Random Forest"
   ]
  },
  {
   "cell_type": "code",
   "execution_count": 85,
   "metadata": {},
   "outputs": [
    {
     "name": "stdout",
     "output_type": "stream",
     "text": [
      "Random Forest Regression RMSE:  9.633778710500845  & MAE:  7.275717706077359\n"
     ]
    }
   ],
   "source": [
    "#    3) Random Forest: Better than tree reg, as it is built over multiple averaged TR's\n",
    "from sklearn.ensemble import RandomForestRegressor\n",
    "forest_reg_DBP = RandomForestRegressor(n_estimators=32, max_leaf_nodes=256, min_samples_leaf=100)\n",
    "# Best par's for DBP were: 64 est, 256 nodes, 10 samples\n",
    "#      Random Forest Regression RMSE:  10.387151325576498  & MAE:  7.9126561921673275 ====> CDF Grade C when PTT<0.4\n",
    "#      Random Forest Regression RMSE:  10.33505511924164  & MAE:  7.825845517918328 =======> CDF Grade C when .015<PTT<0.4\n",
    "#      Random Forest Regression RMSE:  10.234157039421838  & MAE:  7.703771225841401 ======> CDF Grade C when PTT<0.155\n",
    "forest_reg_DBP.fit(train_copy2_tr_DBP, train_labels_DBP)\n",
    "FR_Predictions_DBP = forest_reg_DBP.predict(test_copy_tr_DBP)\n",
    "FR_mse_DBP = mean_squared_error(test_labels_DBP, FR_Predictions_DBP)\n",
    "FR_rmse_DBP = np.sqrt(FR_mse_DBP)\n",
    "FR_MAE_DBP = np.mean(abs(test_labels_DBP - FR_Predictions_DBP))\n",
    "print(\"Random Forest Regression RMSE: \", FR_rmse_DBP, \" & MAE: \", FR_MAE_DBP)"
   ]
  },
  {
   "cell_type": "code",
   "execution_count": 86,
   "metadata": {},
   "outputs": [
    {
     "data": {
      "image/png": "[encoded data removed]",
      "text/plain": [
       "<Figure size 864x576 with 1 Axes>"
      ]
     },
     "metadata": {
      "needs_background": "light"
     },
     "output_type": "display_data"
    }
   ],
   "source": [
    "Error_FR_DBP = abs(test_labels_DBP - FR_Predictions_DBP);\n",
    "import matplotlib.pyplot as plt\n",
    "fig, ax = plt.subplots(figsize=(12, 8));\n",
    "ax.hist(Error_FR_DBP, 500, density=1, histtype='step', cumulative=True, label='Empirical');\n",
    "plt.grid()"
   ]
  },
  {
   "cell_type": "markdown",
   "metadata": {},
   "source": [
    "### 4.4 SVM"
   ]
  },
  {
   "cell_type": "code",
   "execution_count": 128,
   "metadata": {},
   "outputs": [
    {
     "name": "stdout",
     "output_type": "stream",
     "text": [
      "SVM Regression RMSE:  10.693617639222603\n"
     ]
    },
    {
     "name": "stderr",
     "output_type": "stream",
     "text": [
      "C:\\Users\\ahmedk1\\.conda\\envs\\fromBase\\lib\\site-packages\\sklearn\\svm\\_base.py:985: ConvergenceWarning: Liblinear failed to converge, increase the number of iterations.\n",
      "  warnings.warn(\"Liblinear failed to converge, increase \"\n"
     ]
    },
    {
     "data": {
      "text/plain": [
       "'from sklearn.svm import SVR\\nSVM_poly_reg_DBP = SVR(kernel=\"poly\", degree=2, C=100, epsilon=.1)\\nSVM_poly_reg_DBP.fit(train_copy2_tr_DBP, train_labels_DBP)\\nSVM_poly_Predictions_DBP = SVM_poly_reg_DBP.predict(test_copy_tr_DBP)\\nSVM_poly_mse_DBP = mean_squared_error(test_labels_DBP, SVM_poly_Predictions_DBP)\\nSVM_poly_rmse_DBP = np.sqrt(SVM_poly_mse_DBP)\\nprint(\"SVM with kernel Regression RMSE: \",SVM_poly_rmse_DBP)\\n\\nabs_error_DBP = [abs(test_labels_DBP.values[l] - SVM_Predictions_DBP[l]) for l in range(len(SVM_Predictions_DBP))]\\nmean_error_vec_DBP = [sum(abs_error_DBP)/len(abs_error_DBP)]*len(abs_error_DBP)\\n'"
      ]
     },
     "execution_count": 128,
     "metadata": {},
     "output_type": "execute_result"
    }
   ],
   "source": [
    "#    4) SVM: Support Vector Machine (Linear and Non-Linear)\n",
    "# Linear SVM\n",
    "from sklearn.svm import LinearSVR\n",
    "SVM_reg_DBP = LinearSVR(epsilon=1.5) # was 1.5 with MAE=8.293\n",
    "SVM_reg_DBP.fit(train_copy2_tr_DBP, train_labels_DBP)\n",
    "SVM_Predictions_DBP = SVM_reg_DBP.predict(test_copy_tr_DBP)\n",
    "SVM_mse_DBP = mean_squared_error(test_labels_DBP, SVM_Predictions_DBP)\n",
    "SVM_rmse_DBP = np.sqrt(SVM_mse_DBP)\n",
    "print(\"SVM Regression RMSE: \",SVM_rmse_DBP)\n",
    "# SVM with Poly Kernel\n",
    "\n",
    "\"\"\"from sklearn.svm import SVR\n",
    "SVM_poly_reg_DBP = SVR(kernel=\"poly\", degree=2, C=100, epsilon=.1)\n",
    "SVM_poly_reg_DBP.fit(train_copy2_tr_DBP, train_labels_DBP)\n",
    "SVM_poly_Predictions_DBP = SVM_poly_reg_DBP.predict(test_copy_tr_DBP)\n",
    "SVM_poly_mse_DBP = mean_squared_error(test_labels_DBP, SVM_poly_Predictions_DBP)\n",
    "SVM_poly_rmse_DBP = np.sqrt(SVM_poly_mse_DBP)\n",
    "print(\"SVM with kernel Regression RMSE: \",SVM_poly_rmse_DBP)\n",
    "\n",
    "abs_error_DBP = [abs(test_labels_DBP.values[l] - SVM_Predictions_DBP[l]) for l in range(len(SVM_Predictions_DBP))]\n",
    "mean_error_vec_DBP = [sum(abs_error_DBP)/len(abs_error_DBP)]*len(abs_error_DBP)\n",
    "\"\"\""
   ]
  },
  {
   "cell_type": "code",
   "execution_count": 119,
   "metadata": {},
   "outputs": [
    {
     "data": {
      "text/plain": [
       "8.367996621448686"
      ]
     },
     "execution_count": 119,
     "metadata": {},
     "output_type": "execute_result"
    }
   ],
   "source": [
    "np.mean(abs(test_labels_DBP - SVM_Predictions_DBP))"
   ]
  },
  {
   "cell_type": "code",
   "execution_count": 111,
   "metadata": {},
   "outputs": [
    {
     "name": "stdout",
     "output_type": "stream",
     "text": [
      "double score(double * input) {\n",
      "    return ((58.77603006726146) + ((input[0]) * (0.8671294121438181))) + ((input[1]) * (0.08468247585961933));\n",
      "}\n",
      "\n"
     ]
    }
   ],
   "source": [
    "import m2cgen as m2c\n",
    "print(m2c.export_to_c(SVM_reg_DBP))"
   ]
  },
  {
   "cell_type": "code",
   "execution_count": 28,
   "metadata": {},
   "outputs": [
    {
     "data": {
      "text/plain": [
       "['SVM_reg_DBP0324.pkl']"
      ]
     },
     "execution_count": 28,
     "metadata": {},
     "output_type": "execute_result"
    }
   ],
   "source": [
    "import joblib\n",
    "# Saving DBP Estimation Models:\n",
    "\n",
    "joblib.dump(lin_reg_DBP,\"lin_reg_DBP0324.pkl\")\n",
    "joblib.dump(tree_reg_DBP,\"tree_reg_DBP0324.pkl\")\n",
    "joblib.dump(forest_reg_DBP,\"forest_reg_DBP0324.pkl\")\n",
    "joblib.dump(SVM_reg_DBP,\"SVM_reg_DBP0324.pkl\")\n",
    "#joblib.dump(,\"0324.pkl\")\n",
    "\n",
    "# to load it, just use: xyz = joblib.load(\"model_name_as_saved.pkl\")"
   ]
  }
 ],
 "metadata": {
  "kernelspec": {
   "display_name": "py371_sklearn0201",
   "language": "python",
   "name": "py371_sklearn0201"
  },
  "language_info": {
   "codemirror_mode": {
    "name": "ipython",
    "version": 3
   },
   "file_extension": ".py",
   "mimetype": "text/x-python",
   "name": "python",
   "nbconvert_exporter": "python",
   "pygments_lexer": "ipython3",
   "version": "3.7.1"
  }
 },
 "nbformat": 4,
 "nbformat_minor": 2
}

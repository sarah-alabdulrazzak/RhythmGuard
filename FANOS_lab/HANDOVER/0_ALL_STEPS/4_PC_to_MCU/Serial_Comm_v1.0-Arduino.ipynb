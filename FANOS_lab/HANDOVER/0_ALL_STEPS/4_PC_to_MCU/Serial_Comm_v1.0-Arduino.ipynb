{
 "cells": [
  {
   "cell_type": "markdown",
   "metadata": {},
   "source": [
    "## Data Preparation, re-run when changing TARGET(SBP, DBP, MAP)"
   ]
  },
  {
   "cell_type": "code",
   "execution_count": 22,
   "metadata": {},
   "outputs": [],
   "source": [
    "TARGET = 'MAP' # SBP or DBP or MAP\n",
    "import pandas as pd\n",
    "import numpy as np\n",
    "from sklearn.model_selection import train_test_split\n",
    "take_log_PTT = 0 # if not log, then all values are positive & the outliers are as defined\n",
    "Remove_HR_Outliers = 1 # =1 if required more constraints on HR ( 54.4 < HR < 155.8) \n",
    "Remove_PTT_Outliers = 1\n",
    "Remove_BP_Outliers = 1\n",
    "\n",
    "Remove_PTTm_Outliers = 0 #(PATf)\n",
    "Remove_PTTh_Outliers = 0 #(PPG Max-to-Min)\n",
    "\n",
    "\n",
    "All_Instants_Data2 = pd.read_csv('Extracted_Instants_Parameters_8secWindow_PTTm_PTTh_MAP_210621.csv')\n",
    "All_Instants_Data2.dropna(inplace=True)\n",
    "All_Instants_Data = All_Instants_Data2\n",
    "\n",
    "if take_log_PTT != 1:\n",
    "    All_Instants_Data['PTT'] = np.exp(All_Instants_Data['PTT']) ################ NOT LOG ANYMORE # By commenting this, it is log\n",
    "    All_Instants_Data['PTTm'] = np.exp(All_Instants_Data['PTTm'])\n",
    "\n",
    "# Removing BP Outliers\n",
    "if Remove_BP_Outliers == 1:\n",
    "    cond_BP = ((All_Instants_Data['SBP']<180) & (All_Instants_Data['SBP']>80)) & ((All_Instants_Data['DBP']<130) & (All_Instants_Data['DBP']>60))\n",
    "    All_Instants_Data= All_Instants_Data.loc[cond_BP, ['PTTh','PTTm','PTT','HR','SBP', 'DBP','MAP']]\n",
    "\n",
    "# Removing HR Outliers\n",
    "if Remove_HR_Outliers == 1: \n",
    "    cond_HR = ((All_Instants_Data['HR']>54.4) & (All_Instants_Data['HR']<155.8))\n",
    "    All_Instants_Data= All_Instants_Data.loc[cond_HR, ['PTTh','PTTm','PTT','HR','SBP', 'DBP','MAP']]\n",
    "    \n",
    "# Removing PTT Ouliers (outlier if PTT>1.5) # So far, considering PTT<0.5 range gave the best result\n",
    "if Remove_PTT_Outliers == 1: \n",
    "    cond_PTT = (All_Instants_Data['PTT']<0.4) #& (All_Instants_Data['PTT']>0.2)#& (All_Instants_Data['PTT']>.015) #### KEEP <0.4 only ##################\n",
    "    All_Instants_Data= All_Instants_Data.loc[cond_PTT, ['PTTh','PTTm','PTT','HR','SBP', 'DBP','MAP']]\n",
    "    \n",
    "# Removing PTTm (PATf) Outliers\n",
    "if Remove_PTTm_Outliers == 1: \n",
    "    cond_PTTm = ((All_Instants_Data['PTTm']>0.7) & (All_Instants_Data['PTTm']<1.5))\n",
    "    All_Instants_Data= All_Instants_Data.loc[cond_PTTm, ['PTTh','PTTm','PTT','HR','SBP', 'DBP','MAP']]\n",
    "    \n",
    "# Removing PTTh (PPG Max-to-Min) Outliers\n",
    "if Remove_PTTh_Outliers == 1: \n",
    "    cond_PTTh = ((All_Instants_Data['PTTh']>1) & (All_Instants_Data['PTTh']<2))\n",
    "    All_Instants_Data= All_Instants_Data.loc[cond_PTTh, ['PTTh','PTTm','PTT','HR','SBP', 'DBP','MAP']]\n",
    "\n",
    "    \n",
    "\n",
    "\n",
    "\n",
    "temp_data = All_Instants_Data.loc[:, ['PTTh','PTTm','PTT','HR']]\n",
    "train_copy2_tr, testData, train_labels, test_labels = train_test_split(temp_data, All_Instants_Data[TARGET], test_size=0.2, random_state=42,shuffle=True)\n",
    "\n"
   ]
  },
  {
   "cell_type": "markdown",
   "metadata": {},
   "source": [
    "## PC-to-MCU Connection + Helper Functions, run when the MCU is loaded and plugged"
   ]
  },
  {
   "cell_type": "code",
   "execution_count": 27,
   "metadata": {},
   "outputs": [
    {
     "name": "stdout",
     "output_type": "stream",
     "text": [
      "Connected to COM6\n",
      "Arduino is ready\n",
      "\n",
      "\n"
     ]
    },
    {
     "data": {
      "text/plain": [
       "<bound method Serial.close of Serial<id=0x1dc0e167668, open=True>(port='COM6', baudrate=115200, bytesize=8, parity='N', stopbits=1, timeout=1, xonxoff=False, rtscts=False, dsrdtr=False)>"
      ]
     },
     "execution_count": 27,
     "metadata": {},
     "output_type": "execute_result"
    }
   ],
   "source": [
    "# Connection Information: \n",
    "connectPort = 'COM6' ######################## PORT: COM6 for Arduino, COM9 for ESP, COM7 for PyBadge \n",
    "Baud_Rate = 115200\n",
    "startMarker = 60\n",
    "endMarker = 62\n",
    "\n",
    "import pandas as pd\n",
    "#=====================================\n",
    "\n",
    "#  Function Definitions\n",
    "\n",
    "#=====================================\n",
    "\n",
    "\n",
    "def sendToArduino(sendStr):\n",
    "  ser.write(bytes(sendStr, 'utf-8'))\n",
    "\n",
    "\n",
    "#======================================\n",
    "\n",
    "def recvFromArduino():\n",
    "  global startMarker, endMarker\n",
    "  \n",
    "  ck = \"\"\n",
    "  x = \"z\" # any value that is not an end- or startMarker\n",
    "  byteCount = -1 # to allow for the fact that the last increment will be one too many\n",
    "  \n",
    "  # wait for the start character\n",
    "  while  ord(x) != startMarker: \n",
    "    x = ser.read()\n",
    "  \n",
    "  # save data until the end marker is found\n",
    "  while ord(x) != endMarker:\n",
    "    if ord(x) != startMarker:\n",
    "      ck = ck + x.decode('utf-8')\n",
    "      byteCount += 1\n",
    "    x = ser.read()\n",
    "  \n",
    "  \n",
    "  return(ck) \n",
    "\n",
    "\n",
    "#============================\n",
    "\n",
    "def waitForArduino():\n",
    "\n",
    "   # wait until the Arduino sends 'Arduino Ready' - allows time for Arduino reset\n",
    "   # it also ensures that any bytes left over from a previous message are discarded\n",
    "   \n",
    "    global startMarker, endMarker\n",
    "    \n",
    "    msg = \"\"\n",
    "    while msg.find(\"Arduino is ready\") == -1:\n",
    "\n",
    "      while ser.inWaiting() == 0:\n",
    "        pass\n",
    "        \n",
    "      msg = recvFromArduino()\n",
    "\n",
    "      print (msg)\n",
    "      print (\"\\n\")\n",
    "      \n",
    "\n",
    "\n",
    "#======================================\n",
    "\n",
    "\n",
    "def runTest(td):\n",
    "  import pandas as pd\n",
    "  MCU_pred=pd.DataFrame()\n",
    "    \n",
    "  numLoops = len(td)\n",
    "  waitingForReply = False\n",
    "\n",
    "  n = 0\n",
    "  while n < numLoops:\n",
    "\n",
    "    teststr = td[n]\n",
    "\n",
    "    if waitingForReply == False:\n",
    "        sendToArduino(teststr)\n",
    "        #print (\"Sent from PC -- LOOP NUM \" + str(n) + \" TEST STR \" + teststr)\n",
    "        waitingForReply = True\n",
    "\n",
    "    if waitingForReply == True:\n",
    "\n",
    "        while ser.inWaiting() == 0:\n",
    "            pass\n",
    "      \n",
    "        str_from_MCU = recvFromArduino()\n",
    "        chunks = str_from_MCU.split(',')\n",
    "        P_SBP = float(chunks[0])\n",
    "        #P_DBP = float(chunks[1])\n",
    "        infTime = int(chunks[1])  ##########################################\n",
    "        \n",
    "        #Subset_DF = pd.DataFrame({'Pred_SBP':[P_SBP],'Pred_DBP':[P_DBP],'Inf_Time':[infTime]})\n",
    "        Subset_DF = pd.DataFrame({'Pred_SBP':[P_SBP],'Inf_Time':[infTime]})\n",
    "        MCU_pred = MCU_pred.append(Subset_DF, ignore_index=True)\n",
    "      \n",
    "        n += 1\n",
    "        waitingForReply = False\n",
    "    \n",
    "    #print (\"===========\")\n",
    "  return MCU_pred\n",
    "    #time.sleep(5) ####################################### should I keep this? let's see!\n",
    "\n",
    "\n",
    "#======================================\n",
    "\n",
    "# THE DEMO PROGRAM STARTS HERE\n",
    "\n",
    "#======================================\n",
    "\n",
    "import serial\n",
    "import time\n",
    "\n",
    "\n",
    "print\n",
    "print\n",
    "\n",
    "\n",
    "\n",
    "\n",
    "# Establish Connection \n",
    "\n",
    "if connectPort != 'None':\n",
    "    ser = serial.Serial(connectPort,baudrate = Baud_Rate, timeout=1)\n",
    "    print('Connected to ' + connectPort)\n",
    "else:\n",
    "    print('Connection Issue!')\n",
    "\n",
    "waitForArduino()\n",
    "\n",
    "\n",
    "Num_Test_Points = 5 # you may use it with the testData assignment for faster test. \n",
    "Total_length = len(testData.index)\n",
    "round_dig = 5\n",
    " \n",
    "PackedDataList = [] # THAT IS A LIST APPARENTLY!\n",
    "for i in range(len(testData.index)):\n",
    "    new_str = '<' + str(testData['PTTh'].iloc[i].round(round_dig)) + ',' + str(testData['PTTm'].iloc[i].round(round_dig)) + ',' + str(testData['PTT'].iloc[i].round(round_dig)) + ',' + str(testData['HR'].iloc[i].round(round_dig)) + '>'\n",
    "    PackedDataList.append(new_str) \n",
    "\n",
    "Predictions_df = runTest(PackedDataList) \n",
    "ser.close"
   ]
  },
  {
   "cell_type": "code",
   "execution_count": 4,
   "metadata": {
    "scrolled": true
   },
   "outputs": [
    {
     "data": {
      "text/html": [
       "<div>\n",
       "<style scoped>\n",
       "    .dataframe tbody tr th:only-of-type {\n",
       "        vertical-align: middle;\n",
       "    }\n",
       "\n",
       "    .dataframe tbody tr th {\n",
       "        vertical-align: top;\n",
       "    }\n",
       "\n",
       "    .dataframe thead th {\n",
       "        text-align: right;\n",
       "    }\n",
       "</style>\n",
       "<table border=\"1\" class=\"dataframe\">\n",
       "  <thead>\n",
       "    <tr style=\"text-align: right;\">\n",
       "      <th></th>\n",
       "      <th>Pred_SBP</th>\n",
       "      <th>Inf_Time</th>\n",
       "    </tr>\n",
       "  </thead>\n",
       "  <tbody>\n",
       "  </tbody>\n",
       "</table>\n",
       "</div>"
      ],
      "text/plain": [
       "Empty DataFrame\n",
       "Columns: [Pred_SBP, Inf_Time]\n",
       "Index: []"
      ]
     },
     "execution_count": 4,
     "metadata": {},
     "output_type": "execute_result"
    }
   ],
   "source": [
    "Predictions_df[Predictions_df['Pred_SBP'].isna()]"
   ]
  },
  {
   "cell_type": "markdown",
   "metadata": {},
   "source": [
    "## Error Calculations, ME, MAE, Std, CDF, Time, and Saving Results"
   ]
  },
  {
   "cell_type": "code",
   "execution_count": 28,
   "metadata": {},
   "outputs": [
    {
     "data": {
      "image/png": "[encoded data removed]",
      "text/plain": [
       "<Figure size 864x576 with 1 Axes>"
      ]
     },
     "metadata": {
      "needs_background": "light"
     },
     "output_type": "display_data"
    }
   ],
   "source": [
    "import joblib \n",
    "import matplotlib.pyplot as plt\n",
    "import pandas as pd\n",
    "import numpy as np\n",
    "\n",
    "\n",
    "MCU = 'Arduino'\n",
    "Alg = 'DT'\n",
    "\n",
    "Results_file = 'MCU_Results/'+ MCU + TARGET+'_Results_' +'.txt'\n",
    "CDF_file = 'MCU_Results/'+ TARGET + '_' + MCU + '_Error_CDF_' + Alg +'.svg'\n",
    "Test_Error_file = 'MCU_Results/'+ TARGET + '_' + MCU + '_Test_Error_' + Alg +'.pkl'\n",
    "\n",
    "\n",
    "Test_Error = test_labels.values - Predictions_df['Pred_SBP'].values\n",
    "Test_ME = np.mean(Test_Error)\n",
    "Inf_Times_avg = np.mean(Predictions_df['Inf_Time'].values)\n",
    "Test_std = np.std(Test_Error)\n",
    "Test_MAE = np.mean(abs(Test_Error))\n",
    "joblib.dump(Test_Error, Test_Error_file)\n",
    "\n",
    "# Writing Results in Text File: \n",
    "textfile = open(Results_file, 'a')\n",
    "textfile.write('Results for ' + TARGET + ' ' + Alg + ' '+ MCU + '\\n')\n",
    "textfile.write('Test ME: ' + str(Test_ME) + '\\n')\n",
    "textfile.write('Test Std: ' + str(Test_std) + '\\n')\n",
    "textfile.write('Test MAE: ' + str(Test_MAE) + '\\n')\n",
    "textfile.write('Average Inference Time: ' + str(Inf_Times_avg) + '\\n')\n",
    "textfile.write('=========================================' + '\\n')\n",
    "textfile.close()\n",
    "\n",
    "# Plot & Save CDF of Error\n",
    "fig, ax = plt.subplots(figsize=(12, 8));\n",
    "ax.hist(abs(Test_Error), 500, density=1, histtype='step', cumulative=True, label='Empirical');\n",
    "plt.grid(b=True, which='major', color='gray', alpha=0.6, linestyle='dashdot', lw=1.5)\n",
    "#minor grid lines\n",
    "plt.minorticks_on()\n",
    "plt.xlabel('Error (mmHg)')\n",
    "plt.ylabel('Imperical CDF')\n",
    "plt.title('CDF of %s Estimation Error Using %s on %s' %(TARGET, Alg, MCU))\n",
    "plt.grid(b=True, which='minor', color='beige', alpha=0.8, ls='-', lw=1)\n",
    "plt.savefig(CDF_file, format='svg', dpi=1200)"
   ]
  },
  {
   "cell_type": "code",
   "execution_count": 65,
   "metadata": {},
   "outputs": [
    {
     "name": "stdout",
     "output_type": "stream",
     "text": [
      "Results for SBP-LR-MCU\n",
      "\n",
      "Test ME: 0.07325786023380236\n",
      "\n",
      "Test Std: 20.35652029661403\n",
      "\n",
      "Test MAE: 16.702810081440706\n",
      "\n",
      "Average Inference Time: 71.1622877738784\n",
      "\n",
      "=========================================\n",
      "\n"
     ]
    }
   ],
   "source": [
    "print('Results for ' + 'SBP-LR-MCU' + '\\n')\n",
    "print('Test ME: ' + str(Test_ME) + '\\n')\n",
    "print('Test Std: ' + str(Test_std) + '\\n')\n",
    "print('Test MAE: ' + str(Test_MAE) + '\\n')\n",
    "print('Average Inference Time: ' + str(Inf_Times_avg) + '\\n')\n",
    "print('=========================================' + '\\n')"
   ]
  },
  {
   "cell_type": "code",
   "execution_count": 42,
   "metadata": {},
   "outputs": [
    {
     "data": {
      "text/plain": [
       "['Predictions_df_LR_Ard_0414.pkl']"
      ]
     },
     "execution_count": 42,
     "metadata": {},
     "output_type": "execute_result"
    }
   ],
   "source": [
    "import joblib\n",
    "joblib.dump(Predictions_df,\"Predictions_df_LR_Ard_0414.pkl\")"
   ]
  }
 ],
 "metadata": {
  "kernelspec": {
   "display_name": "py371_sklearn0201",
   "language": "python",
   "name": "py371_sklearn0201"
  },
  "language_info": {
   "codemirror_mode": {
    "name": "ipython",
    "version": 3
   },
   "file_extension": ".py",
   "mimetype": "text/x-python",
   "name": "python",
   "nbconvert_exporter": "python",
   "pygments_lexer": "ipython3",
   "version": "3.7.1"
  }
 },
 "nbformat": 4,
 "nbformat_minor": 2
}
